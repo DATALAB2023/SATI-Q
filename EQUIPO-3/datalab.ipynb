{
 "cells": [
  {
   "cell_type": "code",
   "execution_count": null,
   "id": "ac5f2c7e-6c32-499d-87d0-785aef28c94a",
   "metadata": {},
   "outputs": [],
   "source": [
    "import os\n",
    "import pandas as pd\n",
    "import seaborn as sns\n",
    "from matplotlib import rcParams\n",
    "from sklearn.metrics import accuracy_score, recall_score, f1_score, precision_score"
   ]
  },
  {
   "cell_type": "code",
   "execution_count": null,
   "id": "96d1c6d7-aa97-4cd8-8096-b42527758177",
   "metadata": {},
   "outputs": [],
   "source": [
    "sns.axes_style(\"darkgrid\")\n",
    "rcParams['figure.figsize'] = 12, 4"
   ]
  },
  {
   "cell_type": "code",
   "execution_count": null,
   "id": "f84d6207-9a08-4f81-ad53-61d1013a2a5a",
   "metadata": {},
   "outputs": [],
   "source": [
    "def collect_all_files(path, files):\n",
    "    if os.path.isfile(path):\n",
    "        files.add(path)\n",
    "    else:\n",
    "        for new_path in os.listdir(path):\n",
    "            collect_all_files(os.path.join(path, new_path), files)\n",
    "\n",
    "def all_files_with_text(path, text):\n",
    "    files = set()\n",
    "    collect_all_files(path, files)\n",
    "    return list(filter(lambda filename : text in filename, files))\n",
    "\n",
    "def read_csv(path, text):\n",
    "    tables = all_files_with_text(path, text)\n",
    "    df = pd.concat([pd.read_csv(file, low_memory=False, encoding='latin-1') for file in tables])\n",
    "    df.columns = list(map(lambda column : column.lower(), df))\n",
    "    df = df.rename(columns={'ï»¿tipodni' : 'tipodni'}).drop_duplicates().reset_index(drop=True)\n",
    "    return df\n",
    "\n",
    "def nan_len_and_proportion(df, column):\n",
    "    len_col = len(df[df[column].isna()])\n",
    "    return len_col, len_col/len(df)\n",
    "\n",
    "def count_coulumns(df, columns):\n",
    "    return df[columns].value_counts(subset=columns).reset_index().rename(columns={'count' : 'occurrences'})\n",
    "\n",
    "def print_proportions(df):\n",
    "    df_aux = pd.DataFrame()\n",
    "    df_aux['reason'] = df.restrat.map(lambda value : 'Muere' if value == 5.0 else 'Vive')\n",
    "    df_aux['prediction'] = df.probpim3.map(lambda value : 'Vive' if value < 0.5 else 'Muere')\n",
    "    return count_coulumns(df_aux, ['reason', 'prediction'])\n",
    "\n",
    "def check_duplicates(df, query):\n",
    "    return df.query(query).reset_index()\n",
    "\n",
    "def check_fivarapa_duplicates(df, dni):\n",
    "    return check_duplicates(df, \"tipodni == 'D.N.I.' and dni == '{dni}' and fecing == '01/01/2020'\".format(dni=dni))"
   ]
  },
  {
   "cell_type": "markdown",
   "id": "6bb927a2-df48-4d7a-855d-6d51fc4be6f5",
   "metadata": {},
   "source": [
    "# EDA"
   ]
  },
  {
   "cell_type": "markdown",
   "id": "86532284-4211-43a2-8bc8-79676b1f8261",
   "metadata": {},
   "source": [
    "### Read CSVs"
   ]
  },
  {
   "cell_type": "code",
   "execution_count": null,
   "id": "0a99079c-453b-4a1e-abcf-10ec5859cd94",
   "metadata": {},
   "outputs": [],
   "source": [
    "df_fivarapa = read_csv('../resources/tables/SATIQ-PEDIATRICOS/', 'FIVARAPA') \n",
    "df_pim_2 = read_csv('../resources/tables/SATIQ-PEDIATRICOS/', 'FiPim')\n",
    "df_pim_3 = read_csv('../resources/tables/SATIQ-PEDIATRICOS/', 'FiPIM3')"
   ]
  },
  {
   "cell_type": "markdown",
   "id": "3c04d6d9-2531-445f-b333-986208729696",
   "metadata": {},
   "source": [
    "### FIVARAPA"
   ]
  },
  {
   "cell_type": "code",
   "execution_count": null,
   "id": "e5a2be86-169b-490a-aa82-566e1f244128",
   "metadata": {},
   "outputs": [],
   "source": [
    "df_fivarapa_occurrences = count_coulumns(df_fivarapa, ['tipodni', 'dni', 'fecing'])"
   ]
  },
  {
   "cell_type": "code",
   "execution_count": null,
   "id": "c8a44d56-8def-4cd7-92eb-46deef84c3c8",
   "metadata": {},
   "outputs": [],
   "source": [
    "df_fivarapa_occurrences[df_fivarapa_occurrences.occurrences > 1]"
   ]
  },
  {
   "cell_type": "markdown",
   "id": "3a108e36-5173-49f9-bf2f-d7631232bba8",
   "metadata": {},
   "source": [
    "#### Remove duplicates so that tipodni, dni, fecing is key"
   ]
  },
  {
   "cell_type": "code",
   "execution_count": null,
   "id": "66ec52b6-f535-491e-b7d7-aa3c102fb2ee",
   "metadata": {},
   "outputs": [],
   "source": [
    "duplicates_1 = check_fivarapa_duplicates(df_fivarapa, '1Q8QOC3m@aiI7h003005')\n",
    "duplicates_2 = check_fivarapa_duplicates(df_fivarapa, 'fOIyvEV@iUpqUd000028')\n",
    "duplicates_3 = check_fivarapa_duplicates(df_fivarapa, 'EcA`B8zh6BNX06001879')\n",
    "duplicates_4 = check_fivarapa_duplicates(df_fivarapa, '2rXGIlg7Jgs9K5002598')\n",
    "duplicates_5 = check_fivarapa_duplicates(df_fivarapa, 'gj7eh3wDvW`tX9000218')"
   ]
  },
  {
   "cell_type": "code",
   "execution_count": null,
   "id": "ce1c5f5f-3233-4a3d-a0a8-ead22bd012b3",
   "metadata": {},
   "outputs": [],
   "source": [
    "duplicates_1"
   ]
  },
  {
   "cell_type": "code",
   "execution_count": null,
   "id": "53df9967-6b07-40b7-ae7d-1b7836f20ba3",
   "metadata": {},
   "outputs": [],
   "source": [
    "duplicates_2"
   ]
  },
  {
   "cell_type": "code",
   "execution_count": null,
   "id": "e18e5695-948e-47b7-b9fb-c7720b0cf5a2",
   "metadata": {
    "scrolled": true
   },
   "outputs": [],
   "source": [
    "duplicates_3"
   ]
  },
  {
   "cell_type": "code",
   "execution_count": null,
   "id": "1957fe67-a054-4fcf-ae64-007d6e50a173",
   "metadata": {
    "scrolled": true
   },
   "outputs": [],
   "source": [
    "duplicates_4"
   ]
  },
  {
   "cell_type": "code",
   "execution_count": null,
   "id": "32a4a6d0-0eff-4772-9b2d-e200d4968d3f",
   "metadata": {},
   "outputs": [],
   "source": [
    "duplicates_5"
   ]
  },
  {
   "cell_type": "code",
   "execution_count": null,
   "id": "522b3098-4aae-4d67-b4a2-6ecba74024bd",
   "metadata": {},
   "outputs": [],
   "source": [
    "duplicates_1.isna().sum(axis=1)"
   ]
  },
  {
   "cell_type": "code",
   "execution_count": null,
   "id": "a0ad31b0-5a0e-4c18-8329-961b092870c1",
   "metadata": {},
   "outputs": [],
   "source": [
    "duplicates_2.isna().sum(axis=1)"
   ]
  },
  {
   "cell_type": "code",
   "execution_count": null,
   "id": "1e0ff2be-d1cf-4fec-8108-eb7402fea34c",
   "metadata": {},
   "outputs": [],
   "source": [
    "duplicates_3.isna().sum(axis=1)"
   ]
  },
  {
   "cell_type": "code",
   "execution_count": null,
   "id": "c98506ca-66aa-4b87-8c39-1cf833e2f139",
   "metadata": {},
   "outputs": [],
   "source": [
    "duplicates_4.isna().sum(axis=1)"
   ]
  },
  {
   "cell_type": "code",
   "execution_count": null,
   "id": "9b4edc8d-06c2-466f-91d5-ff8e4a78be11",
   "metadata": {},
   "outputs": [],
   "source": [
    "duplicates_5.isna().sum(axis=1)"
   ]
  },
  {
   "cell_type": "code",
   "execution_count": null,
   "id": "49945c07-cca6-40b9-8b09-f2eee9973c61",
   "metadata": {},
   "outputs": [],
   "source": [
    "df_fivarapa = df_fivarapa.drop([duplicates_1.iloc[1]['index'], duplicates_2.iloc[1]['index'], duplicates_3.iloc[1]['index'], duplicates_4.iloc[1]['index'], duplicates_5.iloc[1]['index']])"
   ]
  },
  {
   "cell_type": "code",
   "execution_count": null,
   "id": "dea0bc32-4a49-4c92-afb8-503492386cd1",
   "metadata": {},
   "outputs": [],
   "source": [
    "count_coulumns(df_fivarapa, ['tipodni', 'dni', 'fecing'])"
   ]
  },
  {
   "cell_type": "code",
   "execution_count": null,
   "id": "22f0b8ec-6700-4088-bc8e-91b4557588ad",
   "metadata": {},
   "outputs": [],
   "source": [
    "df_fivarapa.edad.min(), df_fivarapa.edad.max()"
   ]
  },
  {
   "cell_type": "code",
   "execution_count": null,
   "id": "3ab62c69-7efa-4a70-888a-0ec50ea78a4c",
   "metadata": {},
   "outputs": [],
   "source": [
    "c = df_fivarapa.edad\n",
    "c.clip(lower=0, upper=130)"
   ]
  },
  {
   "cell_type": "code",
   "execution_count": null,
   "id": "57fabee7-9bba-4aed-b7c8-ec5b2b659c90",
   "metadata": {},
   "outputs": [],
   "source": [
    "f = sns.displot(df_fivarapa[(df_fivarapa.edad >= 0) & (df_fivarapa.edad <= 216)].edad, aspect=2.5, )\n",
    "f.set_axis_labels(x_var='Age', y_var='Count')"
   ]
  },
  {
   "cell_type": "code",
   "execution_count": null,
   "id": "6f1a380f-0870-43ef-beff-4118bd9b3528",
   "metadata": {},
   "outputs": [],
   "source": [
    "len(df_fivarapa[df_fivarapa.edad > 120])"
   ]
  },
  {
   "cell_type": "code",
   "execution_count": null,
   "id": "f0232d83-6957-40b7-8783-ae25780042e1",
   "metadata": {},
   "outputs": [],
   "source": [
    "f = sns.displot(df_fivarapa[(df_fivarapa.edad >= 216) & (df_fivarapa.edad <= 500)].edad, aspect=2.5, )\n",
    "f.set_axis_labels(x_var='Age', y_var='Count')"
   ]
  },
  {
   "cell_type": "code",
   "execution_count": null,
   "id": "c273130a-ff4e-4d26-b1c8-d37cdae7f4b3",
   "metadata": {},
   "outputs": [],
   "source": [
    "df_fivarapa = df_fivarapa[(df_fivarapa.edad >= 0) & (df_fivarapa.edad <= 216)].reset_index(drop=True)"
   ]
  },
  {
   "cell_type": "code",
   "execution_count": null,
   "id": "641f79da-5149-4730-b89a-38ba61ed5426",
   "metadata": {},
   "outputs": [],
   "source": [
    "df_fivarapa"
   ]
  },
  {
   "cell_type": "code",
   "execution_count": null,
   "id": "510454c3-9c41-41cb-abf9-5c4d49c2bb11",
   "metadata": {},
   "outputs": [],
   "source": [
    "df_fivarapa.isna().any()"
   ]
  },
  {
   "cell_type": "code",
   "execution_count": null,
   "id": "7f64bd88-b0a8-4772-95f5-c32775606280",
   "metadata": {},
   "outputs": [],
   "source": [
    "df_fivarapa.restrat.unique()"
   ]
  },
  {
   "cell_type": "code",
   "execution_count": null,
   "id": "1ed61af1-e884-4ff7-93ea-4ec999f75654",
   "metadata": {},
   "outputs": [],
   "source": [
    "len(df_fivarapa[df_fivarapa.restrat == 12.0])"
   ]
  },
  {
   "cell_type": "code",
   "execution_count": null,
   "id": "de3571b1-ebaf-47aa-b5f0-0f4e536fd29b",
   "metadata": {},
   "outputs": [],
   "source": [
    "df_fivarapa = df_fivarapa[df_fivarapa.restrat != 12.0]"
   ]
  },
  {
   "cell_type": "code",
   "execution_count": null,
   "id": "bd9c3082-c2d9-45ed-98fc-1f34d6171d06",
   "metadata": {},
   "outputs": [],
   "source": [
    "sum(df_fivarapa.traq.isna())"
   ]
  },
  {
   "cell_type": "code",
   "execution_count": null,
   "id": "ca59ee14-2845-4e8e-8870-3e6838f50ff6",
   "metadata": {},
   "outputs": [],
   "source": [
    "sum(df_fivarapa.sexo.isna())"
   ]
  },
  {
   "cell_type": "code",
   "execution_count": null,
   "id": "58114c08-016c-4551-9955-2ac48a00f0d4",
   "metadata": {},
   "outputs": [],
   "source": [
    "sum(df_fivarapa.sf.isna())"
   ]
  },
  {
   "cell_type": "code",
   "execution_count": null,
   "id": "513f19ce-0ccb-4a3b-a16b-0e48813e5b07",
   "metadata": {},
   "outputs": [],
   "source": [
    "df_fivarapa = df_fivarapa[df_fivarapa.traq.notna()]"
   ]
  },
  {
   "cell_type": "code",
   "execution_count": null,
   "id": "c15a0bbe-7058-42d0-bf96-463cee9da872",
   "metadata": {},
   "outputs": [],
   "source": [
    "df_fivarapa = df_fivarapa[df_fivarapa.sexo.notna()]"
   ]
  },
  {
   "cell_type": "code",
   "execution_count": null,
   "id": "ebfd7ae1-9eb2-4ec2-bece-fcb433fdb3de",
   "metadata": {},
   "outputs": [],
   "source": [
    "df_fivarapa = df_fivarapa[df_fivarapa.sf.notna()]"
   ]
  },
  {
   "cell_type": "code",
   "execution_count": null,
   "id": "7fe8d787-e21d-4901-a384-4c7353d47426",
   "metadata": {},
   "outputs": [],
   "source": [
    "df_fivarapa = df_fivarapa.drop(columns=['traqfi', 'traqff', 'fecingh', 'fecegrh', 'resultadoegresoh', 'dependencia'], errors='ignore')"
   ]
  },
  {
   "cell_type": "code",
   "execution_count": null,
   "id": "802cf422-c8cf-45e5-aa7d-76d1ef0bfca2",
   "metadata": {},
   "outputs": [],
   "source": [
    "df_fivarapa = df_fivarapa.reset_index(drop=True)"
   ]
  },
  {
   "cell_type": "code",
   "execution_count": null,
   "id": "1c82a5a8-cb08-4608-b523-8045a93f836f",
   "metadata": {},
   "outputs": [],
   "source": [
    "len(df_fivarapa)"
   ]
  },
  {
   "cell_type": "code",
   "execution_count": null,
   "id": "7f62f5c1-01f2-47da-b484-ce76a23f62cc",
   "metadata": {},
   "outputs": [],
   "source": [
    "df_fivarapa.isna().any()"
   ]
  },
  {
   "cell_type": "code",
   "execution_count": null,
   "id": "75a07434-31ed-4780-9690-2def8b477684",
   "metadata": {},
   "outputs": [],
   "source": [
    "df_fivarapa.fecegr.min(), df_fivarapa.fecegr.max()"
   ]
  },
  {
   "cell_type": "code",
   "execution_count": null,
   "id": "68b67bb1-5df2-427e-978d-eed99bd55541",
   "metadata": {},
   "outputs": [],
   "source": [
    "df_fivarapa.fecing.min(), df_fivarapa.fecing.max()"
   ]
  },
  {
   "cell_type": "code",
   "execution_count": null,
   "id": "b173385d-3d28-4415-8c30-5a135798db27",
   "metadata": {},
   "outputs": [],
   "source": [
    "df_fivarapa.fecegr = df_fivarapa.fecegr.str.split(' ', expand=True)[0]\n",
    "df_fivarapa.fecegr = pd.to_datetime(df_fivarapa.fecegr, dayfirst=True)"
   ]
  },
  {
   "cell_type": "code",
   "execution_count": null,
   "id": "e2783d32-36f7-4fcf-b1e4-dada7e095b56",
   "metadata": {},
   "outputs": [],
   "source": [
    "df_fivarapa = df_fivarapa[df_fivarapa.fecing != '23/01/1013']"
   ]
  },
  {
   "cell_type": "code",
   "execution_count": null,
   "id": "9d040c07-3efb-49ea-b5f9-10cfeca5e661",
   "metadata": {},
   "outputs": [],
   "source": [
    "df_fivarapa.fecing = df_fivarapa.fecing.str.split(' ', expand=True)[0]\n",
    "df_fivarapa.fecing = pd.to_datetime(df_fivarapa.fecing, dayfirst=True)"
   ]
  },
  {
   "cell_type": "code",
   "execution_count": null,
   "id": "71733db9-cd2a-4874-bfe0-bb4a37aff2c8",
   "metadata": {},
   "outputs": [],
   "source": [
    "df_fivarapa['duration'] = (df_fivarapa.fecegr - df_fivarapa.fecing).map(lambda value : value.value)"
   ]
  },
  {
   "cell_type": "code",
   "execution_count": null,
   "id": "80068c83-72c2-44a4-a2c6-8cedf4247511",
   "metadata": {},
   "outputs": [],
   "source": [
    "df_fivarapa"
   ]
  },
  {
   "cell_type": "code",
   "execution_count": null,
   "id": "0773bf36-23f8-4ef3-96ca-c73ea03c8099",
   "metadata": {},
   "outputs": [],
   "source": [
    "df_fivarapa.isna().any()"
   ]
  },
  {
   "cell_type": "code",
   "execution_count": null,
   "id": "bdc8bbd1-94c6-49bf-b6c0-a502acd74d4c",
   "metadata": {},
   "outputs": [],
   "source": [
    "df_fivarapa.dtypes"
   ]
  },
  {
   "cell_type": "code",
   "execution_count": null,
   "id": "0f7fd984-ddfb-4c98-b318-a9470cd9429b",
   "metadata": {},
   "outputs": [],
   "source": []
  },
  {
   "cell_type": "markdown",
   "id": "bb4665de-0da4-4931-a821-9af3cb79c32f",
   "metadata": {},
   "source": [
    "### PIM 2 vs PIM 3"
   ]
  },
  {
   "cell_type": "code",
   "execution_count": null,
   "id": "651b9656-8dc9-4e77-bdcb-e102ce5e4c7f",
   "metadata": {
    "scrolled": true
   },
   "outputs": [],
   "source": [
    "set(df_pim_2.columns) ^ set(df_pim_3.columns)"
   ]
  },
  {
   "cell_type": "code",
   "execution_count": null,
   "id": "bedc686d-d3d9-4594-acce-29ebff596e79",
   "metadata": {},
   "outputs": [],
   "source": [
    "len(df_pim_3)"
   ]
  },
  {
   "cell_type": "markdown",
   "id": "407293d3-a6ee-4f27-90f2-7c7ac47addb8",
   "metadata": {},
   "source": [
    "### PIM 3"
   ]
  },
  {
   "cell_type": "code",
   "execution_count": null,
   "id": "66471614-4c3f-40a7-a354-8dca9b1fdb4f",
   "metadata": {},
   "outputs": [],
   "source": [
    "df_pim_3"
   ]
  },
  {
   "cell_type": "code",
   "execution_count": null,
   "id": "447dcf07-379b-4011-ab98-11293f5e5864",
   "metadata": {},
   "outputs": [],
   "source": [
    "df_pim_3_occurrences = count_coulumns(df_pim_3, ['tipodni', 'dni', 'fecing'])"
   ]
  },
  {
   "cell_type": "code",
   "execution_count": null,
   "id": "adc1839d-1342-4600-90eb-3b48d5eda5a5",
   "metadata": {},
   "outputs": [],
   "source": [
    "df_pim_3_occurrences"
   ]
  },
  {
   "cell_type": "code",
   "execution_count": null,
   "id": "89443d7e-f062-4c18-9048-4d738dac89d5",
   "metadata": {},
   "outputs": [],
   "source": [
    "df_pim_3.isna().any()"
   ]
  },
  {
   "cell_type": "code",
   "execution_count": null,
   "id": "3d6d4e93-c687-42e6-b868-f55052b623d6",
   "metadata": {},
   "outputs": [],
   "source": [
    "sum(df_pim_3.admisionelectiva.isna())"
   ]
  },
  {
   "cell_type": "code",
   "execution_count": null,
   "id": "ed4eaeb0-494a-44a7-b2bb-90d622a0d568",
   "metadata": {},
   "outputs": [],
   "source": [
    "df_pim_3 = df_pim_3[df_pim_3.admisionelectiva.notna()]"
   ]
  },
  {
   "cell_type": "code",
   "execution_count": null,
   "id": "ff041755-ec39-4f4d-955a-b244e361ce17",
   "metadata": {},
   "outputs": [],
   "source": [
    "df_pim_3.bypass.unique()"
   ]
  },
  {
   "cell_type": "code",
   "execution_count": null,
   "id": "879513c7-cc9e-4277-8641-3ea6dbe6de21",
   "metadata": {},
   "outputs": [],
   "source": [
    "df_pim_3 = df_pim_3.drop(columns=['bypass'])"
   ]
  },
  {
   "cell_type": "code",
   "execution_count": null,
   "id": "eb10a3be-c990-4ef7-9250-3131380c7961",
   "metadata": {},
   "outputs": [],
   "source": [
    "df_pim_3 = df_pim_3.reset_index(drop=True)"
   ]
  },
  {
   "cell_type": "code",
   "execution_count": null,
   "id": "f9abe56b-9cad-4db3-9a56-82d75217c71a",
   "metadata": {},
   "outputs": [],
   "source": [
    "df_pim_3 = df_pim_3[df_pim_3.probpim3 > 0.0]\n",
    "df_pim_3 = df_pim_3[df_pim_3.presionarterial >= 30]\n",
    "df_pim_3 = df_pim_3[~((df_pim_3.fio2 < 0.21) & (df_pim_3.fio2 > 0.0))].reset_index(drop=True)"
   ]
  },
  {
   "cell_type": "code",
   "execution_count": null,
   "id": "cca4a468-605b-4bcc-bf56-e8e7e9454d5f",
   "metadata": {
    "scrolled": true
   },
   "outputs": [],
   "source": [
    "df_pim_3"
   ]
  },
  {
   "cell_type": "code",
   "execution_count": null,
   "id": "0409aae3-6bf0-403c-ac24-6ce670ff08f7",
   "metadata": {},
   "outputs": [],
   "source": [
    "df_pim_3.isna().any()"
   ]
  },
  {
   "cell_type": "code",
   "execution_count": null,
   "id": "07b0130e-3057-4f81-b15f-c75c240758ca",
   "metadata": {},
   "outputs": [],
   "source": [
    "len(df_pim_3[df_pim_3.fecing == '25/04/0201'])"
   ]
  },
  {
   "cell_type": "code",
   "execution_count": null,
   "id": "0cd9c13f-6949-4d57-9fc6-bb23e8c8d861",
   "metadata": {},
   "outputs": [],
   "source": [
    "df_pim_3 = df_pim_3[df_pim_3.fecing != '25/04/0201']"
   ]
  },
  {
   "cell_type": "code",
   "execution_count": null,
   "id": "5ac37def-c0b1-4d09-8f33-7db32c736d8a",
   "metadata": {
    "scrolled": true
   },
   "outputs": [],
   "source": [
    "df_pim_3.fecing = df_pim_3.fecing.str.split(' ', expand=True)[0]\n",
    "df_pim_3.fecing = pd.to_datetime(df_pim_3.fecing, dayfirst=True)"
   ]
  },
  {
   "cell_type": "markdown",
   "id": "0dbdb786-98ee-4576-ac4d-fe821a3196f3",
   "metadata": {},
   "source": [
    "### MOTING"
   ]
  },
  {
   "cell_type": "code",
   "execution_count": null,
   "id": "5efee7fd-db17-4c2b-8012-18fb5b5a0af5",
   "metadata": {},
   "outputs": [],
   "source": [
    "df_moting = read_csv('../resources/tables/SATIQ-PEDIATRICOS/', 'MotingP')"
   ]
  },
  {
   "cell_type": "code",
   "execution_count": null,
   "id": "f9aa80df-5e42-4f8b-82b9-b1eadd19ef28",
   "metadata": {},
   "outputs": [],
   "source": [
    "len(df_moting)"
   ]
  },
  {
   "cell_type": "code",
   "execution_count": null,
   "id": "4d9209c3-4d51-475a-886d-9f0bbbd4adb2",
   "metadata": {},
   "outputs": [],
   "source": [
    "count = count_coulumns(df_moting, ['tipodni', 'dni', 'fecing'])"
   ]
  },
  {
   "cell_type": "code",
   "execution_count": null,
   "id": "b9eb2b0f-dca3-4a00-8eeb-fd29641989f3",
   "metadata": {},
   "outputs": [],
   "source": [
    "count = count[count.occurrences > 1]"
   ]
  },
  {
   "cell_type": "code",
   "execution_count": null,
   "id": "115d00ce-bb02-4e31-8cbc-e561d61c504e",
   "metadata": {},
   "outputs": [],
   "source": [
    "df_moting = df_moting[~((df_moting.tipodni.isin(['D.N.I.'])) & (df_moting.dni.isin(list(count.dni))) & (df_moting.fecing.isin(list(count.fecing))))].reset_index(drop=True)"
   ]
  },
  {
   "cell_type": "code",
   "execution_count": null,
   "id": "c4b394fc-1dc0-4acd-9416-f739503b089a",
   "metadata": {},
   "outputs": [],
   "source": [
    "len(df_moting)"
   ]
  },
  {
   "cell_type": "code",
   "execution_count": null,
   "id": "f6958f26-f0b4-441d-9144-589710384c97",
   "metadata": {},
   "outputs": [],
   "source": [
    "count_coulumns(df_moting, ['tipodni', 'dni', 'fecing'])"
   ]
  },
  {
   "cell_type": "code",
   "execution_count": null,
   "id": "cde30158-91d7-4cb0-a705-6a0c40d814bf",
   "metadata": {},
   "outputs": [],
   "source": [
    "df_moting.pating = df_moting.pating.replace(to_replace='Otras', value='Otros')"
   ]
  },
  {
   "cell_type": "code",
   "execution_count": null,
   "id": "95269e4c-82d2-4069-a856-f5106a1dedb6",
   "metadata": {},
   "outputs": [],
   "source": [
    "len(df_moting)"
   ]
  },
  {
   "cell_type": "code",
   "execution_count": null,
   "id": "f9c6d1a1-608d-4b1b-954f-bd79316b251c",
   "metadata": {},
   "outputs": [],
   "source": [
    "pating_map = {\n",
    "    \"NeurolÃ³gico\" : \"Neurológico\",\n",
    "    \"Convulsiones\" : \"Neurológico\",\n",
    "    \"Coma\" : \"Neurológico\",\n",
    "    \"DepresiÃ³n del sensorio\" :  \"Neurológico\",\n",
    "    \"TÃ³rax\" : \"Externa\",\n",
    "    \"Insuficiencia respiratoria\" :  \"Respiratorio\",\n",
    "    \"Sepsis mÃ©dica\" : \"Otros\", #\n",
    "    \"Politraumatismo con TEC\" : \"Externa\",\n",
    "    \"Ortopedia\" : \"Externa\",\n",
    "    \"Otros\" : \"Otros\",\n",
    "    \"Abdomen\" : \"Postquirúrgico\",\n",
    "    \"MonitorizaciÃ³n-Vigilancia\" : \"Otros\",\n",
    "    \"Shock\" : \"Otros\", #\n",
    "    \"PlÃ¡stica\" : \"Postquirúrgico\",\n",
    "    \"NeurocirugÃ­a\" : \"Postquirúrgico\",\n",
    "    \"Crisis hipertensiva\" : \"Cardiovascular\",\n",
    "    \"Insuficiencia cardÃ­aca\" : \"Cardiovascular\",\n",
    "    \"Respiratorio\" : \"Respiratorio\",\n",
    "    \"PatologÃ­a infecciosa\" : \"Otros\", #\n",
    "    \"Politraumatismo sin TEC\" : \"Externa\",\n",
    "    \"Disnea\" : \"Respiratorio\",\n",
    "    \"Accidente cerebro-vascular\" : \"Neurológico\",\n",
    "    \"MÃ¡xilo facial\" : \"Postquirúrgico\",\n",
    "    \"Inestabilidad hemodinÃ¡mica\" : \"Otros\", #\n",
    "    \"Tranplante HepÃ¡tico\" : \"Postquirúrgico\",\n",
    "    \"Insuficiencia renal\" : \"Médico\",\n",
    "    \"Tranplante Pulmonar\" : \"Postquirúrgico\",\n",
    "    \"Transplante de mÃ©dula Ã³sea\" : \"Oncológico\",\n",
    "    \"Alteraciones metabÃ³licas\" : \"Otros\",\n",
    "    \"Causa Externa\" : \"Externa\",\n",
    "    \"Arritmias cardÃ­acas\" : \"Cardiovascular\",\n",
    "    \"PostquirÃºrgico\" : \"Postquirúrgico\",\n",
    "    \"UrologÃ­a\" : \"Postquirúrgico\",\n",
    "    \"Paro cardio-respiratorio\" : \"Externa\",\n",
    "    \"Sepsis quirÃºrgica\" : \"Otros\", #\n",
    "    \"Politraumatismo\" : \"Externa\",\n",
    "    \"Gineco-obstetricia\" : \"Postquirúrgico\",\n",
    "    \"Tranplante CardÃ­aco\" : \"Postquirúrgico\",\n",
    "    \"Hemorragia digestiva\" : \"Otros\",\n",
    "    \"CirugÃ­a Cardiovascular\" : \"Postquirúrgico\",\n",
    "    \"Sme. De lisis tumoral\" : \"Oncológico\",\n",
    "    \"CardiolÃ³gico\" : \"Cardiovascular\",\n",
    "    \"Insuficiencia hepÃ¡tica\" : \"Médico\",\n",
    "    \"Vasculares\" : \"Otros\",\n",
    "    \"Sepsis traumÃ¡tica\" : \"Otros\",\n",
    "    \"otros\" : \"Otros\",\n",
    "    \"Tranplante Hepato Renal\" : \"Postquirúrgico\",\n",
    "    \"Pancreatitis\" : \"Médico\",\n",
    "    \"MÃ©dico\" : \"Médico\",\n",
    "    \"QuirÃºrgico\" : \"Postquirúrgico\",\n",
    "    \"Oncologico\" : \"Oncológico\",\n",
    "}"
   ]
  },
  {
   "cell_type": "code",
   "execution_count": null,
   "id": "217c0982-3f7e-4f20-bf59-9cbdf1bd430e",
   "metadata": {},
   "outputs": [],
   "source": [
    "# len(df_moting[df_moting.pating.isin(['Sepsis mÃ©dica', 'Shock', 'PatologÃ­a infecciosa', 'Inestabilidad hemodinÃ¡mica', 'Sepsis quirÃºrgica', 'Sepsis traumÃ¡tica'])])"
   ]
  },
  {
   "cell_type": "code",
   "execution_count": null,
   "id": "72c6f4b5-ad6f-461a-8f26-d4435ce0b3d5",
   "metadata": {},
   "outputs": [],
   "source": [
    "df_moting.pating = df_moting.pating.map(lambda pating : pating_map[pating])"
   ]
  },
  {
   "cell_type": "code",
   "execution_count": null,
   "id": "6d1295ce-aed6-4635-bce8-d579fbef998e",
   "metadata": {},
   "outputs": [],
   "source": [
    "len(df_moting[df_moting.pating == 'Oncológico'])"
   ]
  },
  {
   "cell_type": "code",
   "execution_count": null,
   "id": "a1426ed3-f2a3-4b34-b6d2-e407b84b3f96",
   "metadata": {},
   "outputs": [],
   "source": [
    "df_moting"
   ]
  },
  {
   "cell_type": "code",
   "execution_count": null,
   "id": "e53c1ae1-0387-42e3-9bf6-7214dd117b9d",
   "metadata": {},
   "outputs": [],
   "source": [
    "df_moting.fecing = df_moting.fecing.str.split(' ', expand=True)[0]\n",
    "df_moting.fecing = pd.to_datetime(df_moting.fecing, dayfirst=True)"
   ]
  },
  {
   "cell_type": "markdown",
   "id": "d8ec0b0f-6212-4d38-a691-0e5c7c33b2f1",
   "metadata": {},
   "source": [
    "### Merge"
   ]
  },
  {
   "cell_type": "code",
   "execution_count": null,
   "id": "66db7004-7e0c-47cb-921c-1402ccfdb40d",
   "metadata": {
    "scrolled": true
   },
   "outputs": [],
   "source": [
    "df_merged = pd.merge(left=df_fivarapa, right=df_pim_3, on=['tipodni', 'dni' ,'fecing'], suffixes=['_fivarapa', '_pim_3']).reset_index(drop=True)"
   ]
  },
  {
   "cell_type": "code",
   "execution_count": null,
   "id": "aaad13d8-0440-41fe-8c10-99f5a71430e9",
   "metadata": {},
   "outputs": [],
   "source": [
    "df_merged = pd.merge(left=df_merged, right=df_moting, on=['tipodni', 'dni' ,'fecing'], suffixes=['_fivarapa', '_moting']).reset_index(drop=True)"
   ]
  },
  {
   "cell_type": "code",
   "execution_count": null,
   "id": "87ea76cc-c595-4cdb-b26b-72bcad992f92",
   "metadata": {},
   "outputs": [],
   "source": [
    "len(df_merged), len(df_fivarapa), len(df_pim_3)"
   ]
  },
  {
   "cell_type": "code",
   "execution_count": null,
   "id": "ce0df2f1-17c2-4f23-8d6a-2677c125b3b0",
   "metadata": {},
   "outputs": [],
   "source": [
    "df_merged_occurrences = count_coulumns(df_merged, ['tipodni', 'dni', 'fecing'])"
   ]
  },
  {
   "cell_type": "code",
   "execution_count": null,
   "id": "80b0f5af-ac1e-4add-a7fa-38a44ac30bff",
   "metadata": {},
   "outputs": [],
   "source": [
    "df_merged_occurrences"
   ]
  },
  {
   "cell_type": "code",
   "execution_count": null,
   "id": "dadbd303-f3d0-47eb-b25d-92dc812d3a6a",
   "metadata": {},
   "outputs": [],
   "source": [
    "df_merged['outcome'] = df_merged.restrat.map(lambda value : 'Muere' if value == 5.0 else 'Vive')\n",
    "df_merged['prediction'] = df_merged.probpim3.map(lambda value : 'Vive' if value < 0.5 else 'Muere')"
   ]
  },
  {
   "cell_type": "code",
   "execution_count": null,
   "id": "fa9fb744-43bf-47a6-9f41-6fa83a356e23",
   "metadata": {},
   "outputs": [],
   "source": [
    "df_merged.outcome.unique()"
   ]
  },
  {
   "cell_type": "code",
   "execution_count": null,
   "id": "4bc3402e-dd99-4890-ab9a-f287ba75b72c",
   "metadata": {},
   "outputs": [],
   "source": []
  },
  {
   "cell_type": "code",
   "execution_count": null,
   "id": "17dda92c-f732-48a1-bee9-a2ccc4ae22d2",
   "metadata": {},
   "outputs": [],
   "source": []
  },
  {
   "cell_type": "code",
   "execution_count": null,
   "id": "0739771a-6c0c-42c4-8728-2998422feaa6",
   "metadata": {},
   "outputs": [],
   "source": []
  },
  {
   "cell_type": "code",
   "execution_count": null,
   "id": "91eec75b-3c57-4575-a923-49b74a3a523e",
   "metadata": {},
   "outputs": [],
   "source": []
  },
  {
   "cell_type": "code",
   "execution_count": null,
   "id": "df6c1d03-ba9b-40d2-9898-701d77ea4f9e",
   "metadata": {},
   "outputs": [],
   "source": []
  },
  {
   "cell_type": "code",
   "execution_count": null,
   "id": "4a1cece6-95f7-46c8-8441-673d067a04c1",
   "metadata": {},
   "outputs": [],
   "source": [
    "len(df_merged)"
   ]
  },
  {
   "cell_type": "code",
   "execution_count": null,
   "id": "81a292a4-1199-4843-a59d-70484fd09a82",
   "metadata": {},
   "outputs": [],
   "source": [
    "df_merged.isna().any()"
   ]
  },
  {
   "cell_type": "code",
   "execution_count": null,
   "id": "04adc94b-96f3-4016-ac34-25af2d201b09",
   "metadata": {},
   "outputs": [],
   "source": [
    "df_merged[['arm_fivarapa' , 'arm_pim_3']]"
   ]
  },
  {
   "cell_type": "code",
   "execution_count": null,
   "id": "c8300718-7b7c-44a1-8f8f-0bf98fe7dc6d",
   "metadata": {},
   "outputs": [],
   "source": [
    "df_merged['arm'] = [(1 if arm_fiv == 'S' else 0) or int(arm_pim) for arm_fiv, arm_pim in zip(df_merged.arm_fivarapa, df_merged.arm_pim_3)]"
   ]
  },
  {
   "cell_type": "code",
   "execution_count": null,
   "id": "afbfae02-d3ee-4653-868d-52b5a2b23608",
   "metadata": {},
   "outputs": [],
   "source": [
    "df_merged.outcome.unique()"
   ]
  },
  {
   "cell_type": "code",
   "execution_count": null,
   "id": "362d31a2-0f9b-475f-a30c-84fe4a1b0b9e",
   "metadata": {},
   "outputs": [],
   "source": [
    "df_merged.procedencia = df_merged.procedencia.astype('int64').astype(str)\n",
    "df_merged.reingreso = df_merged.reingreso.astype('int64')\n",
    "df_merged.tipo = df_merged.tipo.astype('int64').astype(str)\n",
    "df_merged.traq = df_merged.traq.map(lambda value : 1 if value == 'S' else 0).astype('int64')\n",
    "df_merged.traqi = df_merged.traqi.map(lambda value : 1 if value == 'S' else 0).astype('int64')\n",
    "df_merged.traqe = df_merged.traqe.map(lambda value : 1 if value == 'S' else 0).astype('int64')\n",
    "df_merged.sng = df_merged.sng.map(lambda value : 1 if value == 'S' else 0).astype('int64')\n",
    "df_merged.sngi = df_merged.sngi.map(lambda value : 1 if value == 'S' else 0).astype('int64')\n",
    "df_merged.snge = df_merged.snge.map(lambda value : 1 if value == 'S' else 0).astype('int64')\n",
    "df_merged.arm_fivarapa = df_merged.arm_fivarapa.map(lambda value : 1 if value == 'S' else 0).astype('int64')\n",
    "df_merged.sf = df_merged.sf.map(lambda value : 1 if value == 'S' else 0).astype('int64')\n",
    "df_merged.sfi = df_merged.sfi.map(lambda value : 1 if value == 'S' else 0).astype('int64')\n",
    "df_merged.sfe = df_merged.sfe.map(lambda value : 1 if value == 'S' else 0).astype('int64')\n",
    "df_merged.admisionelectiva = df_merged.admisionelectiva.astype('int64')\n",
    "df_merged.pupila = df_merged.pupila.astype('int64')\n",
    "df_merged.recuperacion = df_merged.recuperacion.astype('int64').astype(str)"
   ]
  },
  {
   "cell_type": "code",
   "execution_count": null,
   "id": "e822c373-feea-4381-b6d3-72e6c2ecd8b2",
   "metadata": {},
   "outputs": [],
   "source": [
    "df_merged.outcome.unique()"
   ]
  },
  {
   "cell_type": "code",
   "execution_count": null,
   "id": "140a1c47-b0e2-4877-812c-99c34c738fc4",
   "metadata": {},
   "outputs": [],
   "source": [
    "df_merged.to_csv('clean_data.csv', index=False)"
   ]
  },
  {
   "cell_type": "code",
   "execution_count": null,
   "id": "c83943b0-093c-4657-9a0d-a292d8bf498d",
   "metadata": {},
   "outputs": [],
   "source": [
    "df_merged.dtypes"
   ]
  },
  {
   "cell_type": "markdown",
   "id": "3788b068-c836-4995-afda-955ad4bf67ce",
   "metadata": {},
   "source": [
    "### Plots"
   ]
  },
  {
   "cell_type": "code",
   "execution_count": null,
   "id": "102ded14-b75e-4de6-ba48-cb2b61093211",
   "metadata": {},
   "outputs": [],
   "source": [
    "len(df_merged.edad.unique())"
   ]
  },
  {
   "cell_type": "code",
   "execution_count": null,
   "id": "702fdd4d-3d1c-4650-8c65-28f74942dd56",
   "metadata": {},
   "outputs": [],
   "source": [
    "def age_map(age):\n",
    "    if 0 < age <= 11:\n",
    "        return '1 to 11'\n",
    "    elif 11 < age <= 59:\n",
    "        return '12 to 59'\n",
    "    elif 59 < age <= 119:\n",
    "        return '60 to 119'\n",
    "    else:\n",
    "        return 'over 120'"
   ]
  },
  {
   "cell_type": "code",
   "execution_count": null,
   "id": "ceb8dd2d-5648-444b-9826-48bae1ed5708",
   "metadata": {},
   "outputs": [],
   "source": [
    "df_merged['age_range'] = df_merged.edad.map(age_map)"
   ]
  },
  {
   "cell_type": "code",
   "execution_count": null,
   "id": "f1052a86-babd-4ba3-9b28-e1c9d29a5f05",
   "metadata": {},
   "outputs": [],
   "source": [
    "plot_order = sorted(list(df_merged.age_range.unique()))"
   ]
  },
  {
   "cell_type": "code",
   "execution_count": null,
   "id": "1390304c-48c4-40a4-98f4-46c3ed7bdf92",
   "metadata": {},
   "outputs": [],
   "source": [
    "data = df_merged[['age_range', 'tipodni', 'dni', 'fecing']].groupby('age_range').count().reset_index()\n",
    "data['proportions'] = data.tipodni/data.tipodni.sum()\n",
    "p = sns.barplot(x='age_range', y='proportions', data=data, order=plot_order)\n",
    "p.set_xlabel('Rango etario')\n",
    "p.set_ylabel('Casos')\n",
    "p.set_title('Proporción de casos por rango etario')"
   ]
  },
  {
   "cell_type": "code",
   "execution_count": null,
   "id": "043e0f00-8d3b-4da1-aae1-1a488250f227",
   "metadata": {},
   "outputs": [],
   "source": [
    "df_merged.outcome.unique()"
   ]
  },
  {
   "cell_type": "code",
   "execution_count": null,
   "id": "1e476e80-e34c-4d4d-be34-ee4002bd87b8",
   "metadata": {},
   "outputs": [],
   "source": [
    "data = df_merged[df_merged.outcome == 'Muere'][['age_range', 'tipodni', 'dni', 'fecing']].groupby('age_range').count().reset_index()\n",
    "data['proportions'] = data.tipodni/data.tipodni.sum()\n",
    "p = sns.barplot(x='age_range', y='proportions', data=data, order=plot_order)\n",
    "p.set_xlabel('Rango etario')\n",
    "p.set_ylabel('Defunciones')\n",
    "p.set_title('Proporción de defunciones por rango etario')"
   ]
  },
  {
   "cell_type": "code",
   "execution_count": null,
   "id": "b0abedab-a919-4eb5-921c-c1cbb6a9d87a",
   "metadata": {},
   "outputs": [],
   "source": [
    "df_merged.prediction.unique()"
   ]
  },
  {
   "cell_type": "code",
   "execution_count": null,
   "id": "7d91712e-87c8-44aa-85c3-8c78a6fb6bdd",
   "metadata": {},
   "outputs": [],
   "source": [
    "data = df_merged[(df_merged.outcome == 'Muere') & (df_merged.prediction == 'Vive')][['age_range', 'tipodni', 'dni', 'fecing']].groupby('age_range').count().reset_index()\n",
    "data['proportions'] = data.tipodni/data.tipodni.sum()\n",
    "p = sns.barplot(x='age_range', y='proportions', data=data, order=plot_order)\n",
    "p.set_xlabel('Rango etario')\n",
    "p.set_ylabel('Falsos negativos')\n",
    "p.set_title('Proporción de falsos negativos por rango etario')"
   ]
  },
  {
   "cell_type": "code",
   "execution_count": null,
   "id": "153598e3-1c55-4a47-ad42-0d3ef6974a3d",
   "metadata": {},
   "outputs": [],
   "source": [
    "p = sns.barplot(x='age_range', y='tipodni', data=df_merged[(df_merged.outcome == 'Muere') & (df_merged.prediction == 'Muere')][['age_range', 'tipodni', 'dni', 'fecing']].groupby('age_range').count().reset_index(), order=plot_order)\n",
    "p.set_xlabel('Rango etario')\n",
    "p.set_ylabel('Reales positivos')\n",
    "p.set_title('Número de reales positivos por rango etario')"
   ]
  },
  {
   "cell_type": "code",
   "execution_count": null,
   "id": "7eada5bf-d9d1-4ac1-8718-1cca1fba69dd",
   "metadata": {},
   "outputs": [],
   "source": [
    "data = df_merged[(df_merged.outcome == 'Muere') & (df_merged.prediction == 'Vive')][['age_range', 'arm', 'tipodni', 'dni', 'fecing']].groupby(['age_range', 'arm']).count().reset_index()\n",
    "data['proportions'] = data.tipodni/data.tipodni.sum()\n",
    "p = sns.barplot(x='age_range', hue='arm', y='proportions', data=data, order=plot_order)\n",
    "p.set_xlabel('Rango etario')\n",
    "p.set_ylabel('Falsos negativos con y sin ARM')\n",
    "p.set_title('Proporción de falsos negativos considerando ARM por rango etario')"
   ]
  },
  {
   "cell_type": "code",
   "execution_count": null,
   "id": "104d6918-411a-47c2-a54e-140f30a35fd3",
   "metadata": {},
   "outputs": [],
   "source": [
    "data = df_merged[(df_merged.outcome == 'Muere') & (df_merged.prediction == 'Muere')][['age_range', 'arm', 'tipodni', 'dni', 'fecing']].groupby(['age_range', 'arm']).count().reset_index()\n",
    "data['proportions'] = data.tipodni/data.tipodni.sum()\n",
    "p = sns.barplot(x='age_range', hue='arm', y='proportions', data=data, order=plot_order)\n",
    "p.set_xlabel('Rango etario')\n",
    "p.set_ylabel('Reales positivos con y sin ARM')\n",
    "p.set_title('Proporción de reales positivos considerando ARM por rango etario')"
   ]
  },
  {
   "cell_type": "code",
   "execution_count": null,
   "id": "0cc4e126-842e-45a0-b322-05cd7501f718",
   "metadata": {},
   "outputs": [],
   "source": [
    "data = df_merged[(df_merged.outcome == 'Muere') & (df_merged.prediction == 'Vive')][['age_range', 'reingreso', 'tipodni', 'dni', 'fecing']].groupby(['age_range', 'reingreso']).count().reset_index()\n",
    "data['proportions'] = data.tipodni/data.tipodni.sum()\n",
    "p = sns.barplot(x='age_range', hue='reingreso', y='proportions', data=data, order=plot_order)\n",
    "p.set_xlabel('Rango etario')\n",
    "p.set_ylabel('Falsos negativos con y sin reingresos')\n",
    "p.set_title('Proporción de Falsos negativos considerando reingresos por rango etario')"
   ]
  },
  {
   "cell_type": "code",
   "execution_count": null,
   "id": "b985d4b5-1008-4e4b-bb84-42da6e9b9ae8",
   "metadata": {},
   "outputs": [],
   "source": [
    "data = df_merged[(df_merged.outcome == 'Muere') & (df_merged.prediction == 'Muere')][['age_range', 'reingreso', 'tipodni', 'dni', 'fecing']].groupby(['age_range', 'reingreso']).count().reset_index()\n",
    "data['proportions'] = data.tipodni/data.tipodni.sum()\n",
    "p = sns.barplot(x='age_range', hue='reingreso', y='proportions', data=data, order=plot_order)\n",
    "p.set_xlabel('Rango etario')\n",
    "p.set_ylabel('Reales positivos con y sin reingresos')\n",
    "p.set_title('Proporción de reales positivos considerando reingresos por rango etario')"
   ]
  },
  {
   "cell_type": "code",
   "execution_count": null,
   "id": "b5758869-ca32-4010-9fdc-4aa516c1f817",
   "metadata": {},
   "outputs": [],
   "source": [
    "len(df_merged[df_merged.outcome == 'Muere'])"
   ]
  },
  {
   "cell_type": "markdown",
   "id": "8ccbcdd3-fb09-4dbc-9118-cfdc057cb809",
   "metadata": {},
   "source": [
    "### Tables"
   ]
  },
  {
   "cell_type": "code",
   "execution_count": null,
   "id": "ff64a602-89eb-4b56-a251-5139e0c22ee1",
   "metadata": {},
   "outputs": [],
   "source": [
    "merged_occurrences = count_coulumns(df_merged, ['outcome', 'prediction'])\n",
    "merged_occurrences['proportions'] =  merged_occurrences.occurrences / merged_occurrences.occurrences.sum()\n",
    "merged_occurrences[['outcome', 'prediction', 'proportions']]"
   ]
  },
  {
   "cell_type": "code",
   "execution_count": null,
   "id": "544ead25-23c6-4f1a-a6da-4fd68b79a99b",
   "metadata": {},
   "outputs": [],
   "source": [
    "merged_occurrences = count_coulumns(df_merged[df_merged.outcome == 'Muere'], ['outcome', 'prediction'])\n",
    "merged_occurrences['proportions'] =  merged_occurrences.occurrences / merged_occurrences.occurrences.sum()\n",
    "merged_occurrences[['outcome', 'prediction', 'proportions']]"
   ]
  },
  {
   "cell_type": "code",
   "execution_count": null,
   "id": "3b1207fe-4327-4d10-86f0-46c78e00a573",
   "metadata": {},
   "outputs": [],
   "source": [
    "merged_occurrences = count_coulumns(df_merged[df_merged.outcome == 'Muere'], ['outcome', 'age_range', 'prediction'])\n",
    "merged_occurrences['proportions'] =  merged_occurrences.occurrences / merged_occurrences.occurrences.sum()\n",
    "merged_occurrences[['outcome', 'age_range', 'prediction', 'proportions']]"
   ]
  },
  {
   "cell_type": "code",
   "execution_count": null,
   "id": "97014696-244c-4934-a933-56739dbd04c5",
   "metadata": {},
   "outputs": [],
   "source": [
    "df_table_1 = df_merged[(df_merged.outcome == 'Muere')][['sexo', 'age_range', 'arm', 'probpim3', 'pating', 'dias']]"
   ]
  },
  {
   "cell_type": "code",
   "execution_count": null,
   "id": "333ef269-b6f4-4f04-8ae2-4724734aee4d",
   "metadata": {},
   "outputs": [],
   "source": [
    "df_table_1[['sexo', 'probpim3', 'dias']].groupby(['sexo']).median().reset_index()"
   ]
  },
  {
   "cell_type": "code",
   "execution_count": null,
   "id": "b626e4c8-84b8-49bc-982f-f15a73c26d0f",
   "metadata": {},
   "outputs": [],
   "source": [
    "df_age_rage_counts = pd.DataFrame(df_table_1[['age_range']].value_counts()).reset_index()\n",
    "df_age_rage_counts['proportions'] = df_age_rage_counts['count'] / df_age_rage_counts['count'].sum()\n",
    "df_age_rage_counts"
   ]
  },
  {
   "cell_type": "code",
   "execution_count": null,
   "id": "96a5b0ae-f5a8-4c25-963c-e62c60b041d3",
   "metadata": {},
   "outputs": [],
   "source": [
    "df_arm_counts = pd.DataFrame(df_table_1[['arm']].value_counts()).reset_index()\n",
    "df_arm_counts['proportions'] = df_arm_counts['count'] / df_arm_counts['count'].sum()\n",
    "df_arm_counts"
   ]
  },
  {
   "cell_type": "code",
   "execution_count": null,
   "id": "f4f881f0-0a67-4b5b-86ae-149fb5e1717a",
   "metadata": {},
   "outputs": [],
   "source": [
    "df_pating_counts = pd.DataFrame(df_table_1[['pating']].value_counts()).reset_index()\n",
    "df_pating_counts['proportions'] = df_pating_counts['count'] / df_pating_counts['count'].sum()\n",
    "df_pating_counts"
   ]
  },
  {
   "cell_type": "code",
   "execution_count": null,
   "id": "846b4007-cdf4-44fa-bf82-d11ac0ba6671",
   "metadata": {},
   "outputs": [],
   "source": [
    "df_sex_counts = pd.DataFrame(df_table_1[['sexo']].value_counts()).reset_index()\n",
    "df_sex_counts['proportions'] = df_sex_counts['count'] / df_sex_counts['count'].sum()\n",
    "df_sex_counts"
   ]
  },
  {
   "cell_type": "code",
   "execution_count": null,
   "id": "09ead068-ea77-4c27-b356-03587a00e834",
   "metadata": {},
   "outputs": [],
   "source": [
    "df_merged.to_csv('clean_data.csv', index=False)"
   ]
  },
  {
   "cell_type": "code",
   "execution_count": null,
   "id": "ee992074-adbc-450b-a6a8-b10ecdfc35d2",
   "metadata": {},
   "outputs": [],
   "source": []
  },
  {
   "cell_type": "code",
   "execution_count": null,
   "id": "ae9cc71c-2a35-42f1-a316-270d3b4dc5ce",
   "metadata": {},
   "outputs": [],
   "source": []
  },
  {
   "cell_type": "code",
   "execution_count": null,
   "id": "b6f53da5-9140-452a-b3a5-94174915b0d7",
   "metadata": {},
   "outputs": [],
   "source": []
  },
  {
   "cell_type": "code",
   "execution_count": null,
   "id": "817e1480-9564-4df6-8789-baa30bc75968",
   "metadata": {},
   "outputs": [],
   "source": []
  },
  {
   "cell_type": "code",
   "execution_count": null,
   "id": "2ef5d416-d502-4a97-b12a-97d3775e977b",
   "metadata": {},
   "outputs": [],
   "source": []
  },
  {
   "cell_type": "code",
   "execution_count": null,
   "id": "1679c138-1830-4855-90c6-e8dbd17c49ba",
   "metadata": {},
   "outputs": [],
   "source": []
  },
  {
   "cell_type": "code",
   "execution_count": null,
   "id": "4aa562e9-5cba-49c5-b82c-3b03d2bcc797",
   "metadata": {},
   "outputs": [],
   "source": []
  },
  {
   "cell_type": "code",
   "execution_count": null,
   "id": "fb547e3f-ad18-4b60-b356-a5615ec9091d",
   "metadata": {},
   "outputs": [],
   "source": []
  },
  {
   "cell_type": "code",
   "execution_count": null,
   "id": "48fe9e77-af7a-4e81-aa64-204838b92ab5",
   "metadata": {},
   "outputs": [],
   "source": []
  },
  {
   "cell_type": "code",
   "execution_count": null,
   "id": "5ea0779f-91e0-4d07-86e1-ed146af720e9",
   "metadata": {},
   "outputs": [],
   "source": []
  },
  {
   "cell_type": "code",
   "execution_count": null,
   "id": "aace3a2e-72c6-4b02-93c6-0fc73e03471d",
   "metadata": {},
   "outputs": [],
   "source": []
  },
  {
   "cell_type": "code",
   "execution_count": null,
   "id": "f4c65f77-dcae-4f52-972e-a864a397ee78",
   "metadata": {},
   "outputs": [],
   "source": []
  },
  {
   "cell_type": "code",
   "execution_count": null,
   "id": "333259ab-fc7c-4854-823a-eaa6470d76de",
   "metadata": {},
   "outputs": [],
   "source": []
  },
  {
   "cell_type": "code",
   "execution_count": null,
   "id": "e266ccac-37c0-48a6-a3f0-bc70f7768476",
   "metadata": {},
   "outputs": [],
   "source": []
  },
  {
   "cell_type": "code",
   "execution_count": null,
   "id": "ec07b50f-0af2-44ca-ac94-c4cb45d398e2",
   "metadata": {},
   "outputs": [],
   "source": []
  },
  {
   "cell_type": "markdown",
   "id": "d5b1cf5c-37c9-4c83-89e6-e972f0ad2e82",
   "metadata": {},
   "source": [
    "### Models"
   ]
  },
  {
   "cell_type": "markdown",
   "id": "c27b9ae9-9cb1-45d8-bfb5-8d036b6ce4c7",
   "metadata": {},
   "source": [
    "#### Random Forest"
   ]
  },
  {
   "cell_type": "code",
   "execution_count": null,
   "id": "8e6c5b1f-f901-4f38-9f94-6fcf592b71b6",
   "metadata": {},
   "outputs": [],
   "source": [
    "import h2o\n",
    "from h2o.estimators import H2ORandomForestEstimator"
   ]
  },
  {
   "cell_type": "code",
   "execution_count": null,
   "id": "58998b41-8f60-43f1-abd9-a6c9a6e8ffb5",
   "metadata": {},
   "outputs": [],
   "source": [
    "h2o.init()"
   ]
  },
  {
   "cell_type": "code",
   "execution_count": null,
   "id": "f4a64c3d-5d9e-4554-94d9-73ff44cd1f15",
   "metadata": {},
   "outputs": [],
   "source": [
    "df_merged.outcome = df_merged.outcome.map(lambda value : 1 if value == 'Muere' else 0).astype('int64')\n",
    "df_merged.prediction = df_merged.prediction.map(lambda value : 1 if value == 'Muere' else 0).astype('int64')"
   ]
  },
  {
   "cell_type": "code",
   "execution_count": null,
   "id": "85a61741-e16f-4d2a-a448-b0847cbccb49",
   "metadata": {},
   "outputs": [],
   "source": [
    "df_merged.outcome.value_counts()"
   ]
  },
  {
   "cell_type": "code",
   "execution_count": null,
   "id": "a1db42a0-2562-4c1f-8940-69e57b180aa2",
   "metadata": {},
   "outputs": [],
   "source": [
    "lives_df = df_merged[df_merged.outcome == 0].reset_index(drop=True)\n",
    "dies_df = df_merged[df_merged.outcome == 1].reset_index(drop=True)"
   ]
  },
  {
   "cell_type": "code",
   "execution_count": null,
   "id": "500f638e-2c65-4c28-ab13-15293fe5d9fa",
   "metadata": {},
   "outputs": [],
   "source": [
    "df_sampled = pd.concat([lives_df.sample(5000), dies_df.sample(5000, replace=True)]).reset_index(drop=True)"
   ]
  },
  {
   "cell_type": "code",
   "execution_count": null,
   "id": "c3ccd933-95a9-4924-b511-0ac7e929aca9",
   "metadata": {},
   "outputs": [],
   "source": [
    "df_sampled.to_csv('df_sampled.csv', index=True)"
   ]
  },
  {
   "cell_type": "code",
   "execution_count": null,
   "id": "dd87c8d3-1c64-4baa-ae95-40d7379450ae",
   "metadata": {},
   "outputs": [],
   "source": [
    "h2o_df = h2o.import_file('df_sampled.csv')"
   ]
  },
  {
   "cell_type": "code",
   "execution_count": null,
   "id": "e509bbea-3e02-4fff-b33e-9a0f921e6800",
   "metadata": {},
   "outputs": [],
   "source": [
    "h2o_df['outcome'] = h2o_df['outcome'].asfactor()"
   ]
  },
  {
   "cell_type": "code",
   "execution_count": null,
   "id": "ba5325a0-a16f-4d94-9202-95b81d944e23",
   "metadata": {},
   "outputs": [],
   "source": [
    "predictors = h2o_df.columns\n",
    "predictors.remove('prediction')\n",
    "predictors.remove('dni')\n",
    "predictors.remove('tipodni')\n",
    "predictors.remove('fecing')\n",
    "predictors.remove('fechaing')\n",
    "predictors.remove('C1')\n",
    "predictors.remove('arm_fivarapa')\n",
    "predictors.remove('arm_pim_3')\n",
    "predictors.remove('scorepim3')\n",
    "predictors.remove('probpim3')\n",
    "predictors.remove('restrat')"
   ]
  },
  {
   "cell_type": "code",
   "execution_count": null,
   "id": "2ce0bd51-374c-47f0-8d5b-e0eea34cc08c",
   "metadata": {},
   "outputs": [],
   "source": [
    "train, valid = h2o_df.split_frame(ratios=[.8], seed=1)"
   ]
  },
  {
   "cell_type": "code",
   "execution_count": null,
   "id": "89047533-cec2-4ff4-b697-1c9df43cafaf",
   "metadata": {},
   "outputs": [],
   "source": [
    "import numpy as np"
   ]
  },
  {
   "cell_type": "code",
   "execution_count": null,
   "id": "d4ffc2a2-6bb1-41a7-8754-4d517b9eba4f",
   "metadata": {},
   "outputs": [],
   "source": [
    "optimal_split = int(np.sqrt(len(predictors)))\n",
    "number_of_predictors = len(predictors)"
   ]
  },
  {
   "cell_type": "code",
   "execution_count": null,
   "id": "97ef5f50-aca8-4326-a3c7-2621218f6169",
   "metadata": {},
   "outputs": [],
   "source": [
    "ntrees = int(np.math.factorial(number_of_predictors)/(np.math.factorial(optimal_split)*np.math.factorial(number_of_predictors-optimal_split)))\n",
    "ntrees"
   ]
  },
  {
   "cell_type": "code",
   "execution_count": null,
   "id": "ab701e93-3eba-49a1-b3b9-16d99b6b8e61",
   "metadata": {},
   "outputs": [],
   "source": [
    "random_forest = H2ORandomForestEstimator(\n",
    "    ntrees=5000,\n",
    "    max_depth=5,\n",
    "    min_rows=10,\n",
    "    calibrate_model=True,\n",
    "    calibration_frame=valid,\n",
    "    binomial_double_trees=True,\n",
    "    balance_classes = True\n",
    ")"
   ]
  },
  {
   "cell_type": "code",
   "execution_count": null,
   "id": "b8769a5f-6343-4333-a016-2512ac83509b",
   "metadata": {},
   "outputs": [],
   "source": [
    "random_forest.train(\n",
    "    x=predictors,\n",
    "    y='outcome',\n",
    "    training_frame=train,\n",
    "    validation_frame=valid\n",
    ")"
   ]
  },
  {
   "cell_type": "code",
   "execution_count": null,
   "id": "764f234c-6335-4207-93ce-27b4c193c74f",
   "metadata": {},
   "outputs": [],
   "source": [
    "perf = random_forest.model_performance()"
   ]
  },
  {
   "cell_type": "code",
   "execution_count": null,
   "id": "64a7f0f4-294a-49c1-81b1-3038296084c5",
   "metadata": {},
   "outputs": [],
   "source": [
    "pred = random_forest.predict(valid)"
   ]
  },
  {
   "cell_type": "code",
   "execution_count": null,
   "id": "72c96d1d-433a-4b9b-a328-0939814cdbf0",
   "metadata": {},
   "outputs": [],
   "source": [
    "y_pred = pred.as_data_frame()['predict']"
   ]
  },
  {
   "cell_type": "code",
   "execution_count": null,
   "id": "6ee47316-8fad-4c68-b591-37092a3ead45",
   "metadata": {},
   "outputs": [],
   "source": [
    "y_pred"
   ]
  },
  {
   "cell_type": "code",
   "execution_count": null,
   "id": "4636abfc-5a00-4cca-8418-73456caaffac",
   "metadata": {},
   "outputs": [],
   "source": [
    "y_valid = valid.as_data_frame()['outcome']"
   ]
  },
  {
   "cell_type": "code",
   "execution_count": null,
   "id": "2c177f85-1a1a-4567-99b2-a2a519c42658",
   "metadata": {},
   "outputs": [],
   "source": [
    "y_valid"
   ]
  },
  {
   "cell_type": "code",
   "execution_count": null,
   "id": "d8aafae0-9407-44df-a722-211ef532e409",
   "metadata": {},
   "outputs": [],
   "source": [
    "accuracy_score(y_pred, y_valid)"
   ]
  },
  {
   "cell_type": "code",
   "execution_count": null,
   "id": "ddc39268-f393-4395-98c6-f5111221adf0",
   "metadata": {},
   "outputs": [],
   "source": [
    "recall_score(y_pred, y_valid)"
   ]
  },
  {
   "cell_type": "code",
   "execution_count": null,
   "id": "6f139e9f-8eca-413a-a9d5-1e81b6ed8fcc",
   "metadata": {},
   "outputs": [],
   "source": [
    "f1_score(y_pred, y_valid)"
   ]
  },
  {
   "cell_type": "code",
   "execution_count": null,
   "id": "2cebb824-b30b-4634-aa61-c60793a84406",
   "metadata": {},
   "outputs": [],
   "source": [
    "precision_score(y_pred, y_valid)"
   ]
  },
  {
   "cell_type": "code",
   "execution_count": null,
   "id": "435d71b5-e790-43f2-b4a3-219db4658633",
   "metadata": {},
   "outputs": [],
   "source": [
    "df_predictions = pd.DataFrame(data=np.array([y_pred, y_valid]).T, columns=['prediction', 'outcome'])"
   ]
  },
  {
   "cell_type": "code",
   "execution_count": null,
   "id": "f89bd41e-f64d-4cb1-b826-17191b67eedb",
   "metadata": {},
   "outputs": [],
   "source": [
    "count_coulumns(df_predictions, ['prediction', 'outcome'])"
   ]
  }
 ],
 "metadata": {
  "kernelspec": {
   "display_name": "Python 3 (ipykernel)",
   "language": "python",
   "name": "python3"
  },
  "language_info": {
   "codemirror_mode": {
    "name": "ipython",
    "version": 3
   },
   "file_extension": ".py",
   "mimetype": "text/x-python",
   "name": "python",
   "nbconvert_exporter": "python",
   "pygments_lexer": "ipython3",
   "version": "3.10.0"
  }
 },
 "nbformat": 4,
 "nbformat_minor": 5
}
