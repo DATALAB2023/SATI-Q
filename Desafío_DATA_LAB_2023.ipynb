{
  "nbformat": 4,
  "nbformat_minor": 0,
  "metadata": {
    "colab": {
      "provenance": [],
      "include_colab_link": true
    },
    "kernelspec": {
      "name": "python3",
      "display_name": "Python 3"
    },
    "language_info": {
      "name": "python"
    }
  },
  "cells": [
    {
      "cell_type": "markdown",
      "metadata": {
        "id": "view-in-github",
        "colab_type": "text"
      },
      "source": [
        "<a href=\"https://colab.research.google.com/github/DATALAB2023/SATI-Q/blob/main/Desaf%C3%ADo_DATA_LAB_2023.ipynb\" target=\"_parent\"><img src=\"https://colab.research.google.com/assets/colab-badge.svg\" alt=\"Open In Colab\"/></a>"
      ]
    },
    {
      "cell_type": "markdown",
      "source": [
        "Posibles preguntas:\n",
        "\n",
        "-Diferencias entre los pacientes que van de la guardia a UTI y desde el piso de internacion a UTI\n",
        "-Mortalidad en pacientes de bajo riesgo en UCI / UCIP : perfil epidemiológico, factores de riesgo , predicción (E)\n",
        "-"
      ],
      "metadata": {
        "id": "cqOzTOLkWrqB"
      }
    },
    {
      "cell_type": "markdown",
      "source": [
        "## Busquerda Bibliografica:\n",
        "  ### ICU management based on big data > https://pubmed.ncbi.nlm.nih.gov/32022730/\n",
        "  ### Predicting Mortality in Intensive Care Unit Patients With Heart Failure Using an Interpretable Machine Learning Model: Retrospective Cohort Study >   https://pubmed.ncbi.nlm.nih.gov/35943767/\n",
        "  ###"
      ],
      "metadata": {
        "id": "tVVP4D2PbRvu"
      }
    },
    {
      "cell_type": "code",
      "source": [
        "from google.colab import files\n",
        "import pandas as pd"
      ],
      "metadata": {
        "id": "8knou8XXwozi"
      },
      "execution_count": null,
      "outputs": []
    },
    {
      "cell_type": "code",
      "source": [
        "uploaded = files.upload()"
      ],
      "metadata": {
        "colab": {
          "base_uri": "https://localhost:8080/",
          "height": 73
        },
        "id": "tG5CiTY_2tRT",
        "outputId": "3a85ec07-cd0d-4e56-8b66-e3d0e8edc992"
      },
      "execution_count": null,
      "outputs": [
        {
          "output_type": "display_data",
          "data": {
            "text/plain": [
              "<IPython.core.display.HTML object>"
            ],
            "text/html": [
              "\n",
              "     <input type=\"file\" id=\"files-1452581f-225a-4eb4-894b-5df832fc8830\" name=\"files[]\" multiple disabled\n",
              "        style=\"border:none\" />\n",
              "     <output id=\"result-1452581f-225a-4eb4-894b-5df832fc8830\">\n",
              "      Upload widget is only available when the cell has been executed in the\n",
              "      current browser session. Please rerun this cell to enable.\n",
              "      </output>\n",
              "      <script>// Copyright 2017 Google LLC\n",
              "//\n",
              "// Licensed under the Apache License, Version 2.0 (the \"License\");\n",
              "// you may not use this file except in compliance with the License.\n",
              "// You may obtain a copy of the License at\n",
              "//\n",
              "//      http://www.apache.org/licenses/LICENSE-2.0\n",
              "//\n",
              "// Unless required by applicable law or agreed to in writing, software\n",
              "// distributed under the License is distributed on an \"AS IS\" BASIS,\n",
              "// WITHOUT WARRANTIES OR CONDITIONS OF ANY KIND, either express or implied.\n",
              "// See the License for the specific language governing permissions and\n",
              "// limitations under the License.\n",
              "\n",
              "/**\n",
              " * @fileoverview Helpers for google.colab Python module.\n",
              " */\n",
              "(function(scope) {\n",
              "function span(text, styleAttributes = {}) {\n",
              "  const element = document.createElement('span');\n",
              "  element.textContent = text;\n",
              "  for (const key of Object.keys(styleAttributes)) {\n",
              "    element.style[key] = styleAttributes[key];\n",
              "  }\n",
              "  return element;\n",
              "}\n",
              "\n",
              "// Max number of bytes which will be uploaded at a time.\n",
              "const MAX_PAYLOAD_SIZE = 100 * 1024;\n",
              "\n",
              "function _uploadFiles(inputId, outputId) {\n",
              "  const steps = uploadFilesStep(inputId, outputId);\n",
              "  const outputElement = document.getElementById(outputId);\n",
              "  // Cache steps on the outputElement to make it available for the next call\n",
              "  // to uploadFilesContinue from Python.\n",
              "  outputElement.steps = steps;\n",
              "\n",
              "  return _uploadFilesContinue(outputId);\n",
              "}\n",
              "\n",
              "// This is roughly an async generator (not supported in the browser yet),\n",
              "// where there are multiple asynchronous steps and the Python side is going\n",
              "// to poll for completion of each step.\n",
              "// This uses a Promise to block the python side on completion of each step,\n",
              "// then passes the result of the previous step as the input to the next step.\n",
              "function _uploadFilesContinue(outputId) {\n",
              "  const outputElement = document.getElementById(outputId);\n",
              "  const steps = outputElement.steps;\n",
              "\n",
              "  const next = steps.next(outputElement.lastPromiseValue);\n",
              "  return Promise.resolve(next.value.promise).then((value) => {\n",
              "    // Cache the last promise value to make it available to the next\n",
              "    // step of the generator.\n",
              "    outputElement.lastPromiseValue = value;\n",
              "    return next.value.response;\n",
              "  });\n",
              "}\n",
              "\n",
              "/**\n",
              " * Generator function which is called between each async step of the upload\n",
              " * process.\n",
              " * @param {string} inputId Element ID of the input file picker element.\n",
              " * @param {string} outputId Element ID of the output display.\n",
              " * @return {!Iterable<!Object>} Iterable of next steps.\n",
              " */\n",
              "function* uploadFilesStep(inputId, outputId) {\n",
              "  const inputElement = document.getElementById(inputId);\n",
              "  inputElement.disabled = false;\n",
              "\n",
              "  const outputElement = document.getElementById(outputId);\n",
              "  outputElement.innerHTML = '';\n",
              "\n",
              "  const pickedPromise = new Promise((resolve) => {\n",
              "    inputElement.addEventListener('change', (e) => {\n",
              "      resolve(e.target.files);\n",
              "    });\n",
              "  });\n",
              "\n",
              "  const cancel = document.createElement('button');\n",
              "  inputElement.parentElement.appendChild(cancel);\n",
              "  cancel.textContent = 'Cancel upload';\n",
              "  const cancelPromise = new Promise((resolve) => {\n",
              "    cancel.onclick = () => {\n",
              "      resolve(null);\n",
              "    };\n",
              "  });\n",
              "\n",
              "  // Wait for the user to pick the files.\n",
              "  const files = yield {\n",
              "    promise: Promise.race([pickedPromise, cancelPromise]),\n",
              "    response: {\n",
              "      action: 'starting',\n",
              "    }\n",
              "  };\n",
              "\n",
              "  cancel.remove();\n",
              "\n",
              "  // Disable the input element since further picks are not allowed.\n",
              "  inputElement.disabled = true;\n",
              "\n",
              "  if (!files) {\n",
              "    return {\n",
              "      response: {\n",
              "        action: 'complete',\n",
              "      }\n",
              "    };\n",
              "  }\n",
              "\n",
              "  for (const file of files) {\n",
              "    const li = document.createElement('li');\n",
              "    li.append(span(file.name, {fontWeight: 'bold'}));\n",
              "    li.append(span(\n",
              "        `(${file.type || 'n/a'}) - ${file.size} bytes, ` +\n",
              "        `last modified: ${\n",
              "            file.lastModifiedDate ? file.lastModifiedDate.toLocaleDateString() :\n",
              "                                    'n/a'} - `));\n",
              "    const percent = span('0% done');\n",
              "    li.appendChild(percent);\n",
              "\n",
              "    outputElement.appendChild(li);\n",
              "\n",
              "    const fileDataPromise = new Promise((resolve) => {\n",
              "      const reader = new FileReader();\n",
              "      reader.onload = (e) => {\n",
              "        resolve(e.target.result);\n",
              "      };\n",
              "      reader.readAsArrayBuffer(file);\n",
              "    });\n",
              "    // Wait for the data to be ready.\n",
              "    let fileData = yield {\n",
              "      promise: fileDataPromise,\n",
              "      response: {\n",
              "        action: 'continue',\n",
              "      }\n",
              "    };\n",
              "\n",
              "    // Use a chunked sending to avoid message size limits. See b/62115660.\n",
              "    let position = 0;\n",
              "    do {\n",
              "      const length = Math.min(fileData.byteLength - position, MAX_PAYLOAD_SIZE);\n",
              "      const chunk = new Uint8Array(fileData, position, length);\n",
              "      position += length;\n",
              "\n",
              "      const base64 = btoa(String.fromCharCode.apply(null, chunk));\n",
              "      yield {\n",
              "        response: {\n",
              "          action: 'append',\n",
              "          file: file.name,\n",
              "          data: base64,\n",
              "        },\n",
              "      };\n",
              "\n",
              "      let percentDone = fileData.byteLength === 0 ?\n",
              "          100 :\n",
              "          Math.round((position / fileData.byteLength) * 100);\n",
              "      percent.textContent = `${percentDone}% done`;\n",
              "\n",
              "    } while (position < fileData.byteLength);\n",
              "  }\n",
              "\n",
              "  // All done.\n",
              "  yield {\n",
              "    response: {\n",
              "      action: 'complete',\n",
              "    }\n",
              "  };\n",
              "}\n",
              "\n",
              "scope.google = scope.google || {};\n",
              "scope.google.colab = scope.google.colab || {};\n",
              "scope.google.colab._files = {\n",
              "  _uploadFiles,\n",
              "  _uploadFilesContinue,\n",
              "};\n",
              "})(self);\n",
              "</script> "
            ]
          },
          "metadata": {}
        },
        {
          "output_type": "stream",
          "name": "stdout",
          "text": [
            "Saving Base_Completa (2).csv to Base_Completa (2).csv\n"
          ]
        }
      ]
    },
    {
      "cell_type": "code",
      "source": [
        "data_completa_fivarapa = \"Base_Completa (2).csv\"\n",
        "df = pd.read_csv(data_completa_fivarapa, sep=',',  encoding='utf-8')\n",
        "print(df.head())"
      ],
      "metadata": {
        "colab": {
          "base_uri": "https://localhost:8080/"
        },
        "id": "i6S-0zin1ABo",
        "outputId": "6a8aff0d-f3e7-4ecd-b73e-da4d1184f899"
      },
      "execution_count": null,
      "outputs": [
        {
          "output_type": "stream",
          "name": "stdout",
          "text": [
            "  tipodni                   dni      fecing    fechaing  reingreso         hc  \\\n",
            "0  D.N.I.  O2RiFrIrGJZsnrF00360  08/09/2020  08/09/2020          0  HC_F00360   \n",
            "1  D.N.I.  O2RiFrIrGJZsnrF02171  08/09/2020  08/09/2020          1  HC_F02171   \n",
            "2  D.N.I.  O2RiFrIrGJZsnrF00060  14/09/2020  14/09/2020          0  HC_F00060   \n",
            "3  D.N.I.  O2RiFrIrGJZsnrF00850  15/09/2020  15/09/2020          0  HC_F00850   \n",
            "4  D.N.I.  O2RiFrIrGJZsnrF02303  08/09/2020  08/09/2020          0  HC_F02303   \n",
            "\n",
            "   tipo       paciente      fecegr  dias  ...  sfe fecingh  fecegrh  restrat  \\\n",
            "0     1  Nombre_F00360  09/09/2020     1  ...    N     NaN      NaN        1   \n",
            "1     1  Nombre_F02171  10/09/2020     2  ...    N     NaN      NaN        1   \n",
            "2     1  Nombre_F00060  16/09/2020     2  ...    S     NaN      NaN        1   \n",
            "3     1  Nombre_F00850  16/09/2020     1  ...    N     NaN      NaN        1   \n",
            "4     1  Nombre_F02303  16/09/2020     8  ...    S     NaN      NaN        1   \n",
            "\n",
            "                                   capacidadcerebral  \\\n",
            "0                                                NaN   \n",
            "1                                                NaN   \n",
            "2  Sin modificaciones evidentes en relacion al in...   \n",
            "3  Sin modificaciones evidentes en relacion al in...   \n",
            "4  Sin modificaciones evidentes en relacion al in...   \n",
            "\n",
            "                                 discapacidadgeneral  autopsia  \\\n",
            "0                                                NaN       NaN   \n",
            "1                                                NaN       NaN   \n",
            "2  Sin modificaciones evidentes en relacion al in...       NaN   \n",
            "3  Sin modificaciones evidentes en relacion al in...       NaN   \n",
            "4  Sin modificaciones evidentes en relacion al in...       NaN   \n",
            "\n",
            "   resultadoegresoh  dependencia  ïtipodni  \n",
            "0               NaN          NaN       NaN  \n",
            "1               NaN          NaN       NaN  \n",
            "2               NaN          NaN       NaN  \n",
            "3               NaN          NaN       NaN  \n",
            "4               NaN          NaN       NaN  \n",
            "\n",
            "[5 rows x 55 columns]\n"
          ]
        },
        {
          "output_type": "stream",
          "name": "stderr",
          "text": [
            "<ipython-input-3-333faef240b6>:2: DtypeWarning: Columns (0,46,47,54) have mixed types. Specify dtype option on import or set low_memory=False.\n",
            "  df = pd.read_csv(data_completa_fivarapa, sep=',',  encoding='utf-8')\n"
          ]
        }
      ]
    },
    {
      "cell_type": "code",
      "source": [
        "df.shape"
      ],
      "metadata": {
        "colab": {
          "base_uri": "https://localhost:8080/"
        },
        "id": "jrIKTACY1AEU",
        "outputId": "9d588221-5773-4bda-ec12-efa9f48825ea"
      },
      "execution_count": null,
      "outputs": [
        {
          "output_type": "execute_result",
          "data": {
            "text/plain": [
              "(51653, 55)"
            ]
          },
          "metadata": {},
          "execution_count": 4
        }
      ]
    },
    {
      "cell_type": "code",
      "source": [
        "df.describe()"
      ],
      "metadata": {
        "colab": {
          "base_uri": "https://localhost:8080/",
          "height": 349
        },
        "id": "PVIALAur1AGm",
        "outputId": "7ca49ae5-3fe0-4ff1-e0ec-56ae8a61c89d"
      },
      "execution_count": null,
      "outputs": [
        {
          "output_type": "execute_result",
          "data": {
            "text/plain": [
              "          reingreso     tipo          dias          edad   procedencia  \\\n",
              "count  51653.000000  51653.0  51653.000000  51653.000000  51652.000000   \n",
              "mean       0.027452      1.0      4.235243     50.677831      4.929393   \n",
              "std        0.163399      0.0     13.563870     17.006780      4.545791   \n",
              "min        0.000000      1.0      1.000000     18.000000     -1.000000   \n",
              "25%        0.000000      1.0      1.000000     37.000000      1.000000   \n",
              "50%        0.000000      1.0      2.000000     52.000000      2.000000   \n",
              "75%        0.000000      1.0      4.000000     63.000000     10.000000   \n",
              "max        1.000000      1.0   1205.000000    102.000000     21.000000   \n",
              "\n",
              "          patologia      catknaus   temperatura        tensart      freccard  \\\n",
              "count  51116.000000  49798.000000  51653.000000   51653.000000  51653.000000   \n",
              "mean       1.923175     24.261617     36.642006      91.642997     86.577506   \n",
              "std        1.067985     13.778081     28.936407     795.481016     28.563451   \n",
              "min        0.000000      0.000000      0.000000       0.000000      0.000000   \n",
              "25%        1.000000     10.000000     36.000000      75.000000     75.000000   \n",
              "50%        1.000000     25.000000     36.000000      85.000000     85.000000   \n",
              "75%        3.000000     35.000000     36.599998     100.000000     99.000000   \n",
              "max        4.000000     51.000000   3680.000000  180100.000000   4150.000000   \n",
              "\n",
              "       ...            na             k       creatin      hematroc  \\\n",
              "count  ...  51653.000000  51653.000000  51653.000000  51653.000000   \n",
              "mean   ...    138.855390      3.952384      1.558046     38.068810   \n",
              "std    ...     21.843717      3.451954     56.494275    140.106119   \n",
              "min    ...      0.000000      0.000000      0.000000      0.000000   \n",
              "25%    ...    136.000000      3.600000      0.700000     33.000000   \n",
              "50%    ...    139.000000      3.900000      0.880000     37.200001   \n",
              "75%    ...    141.000000      4.200000      1.000000     41.000000   \n",
              "max    ...   1444.000000    430.000000   9100.000000  26000.000000   \n",
              "\n",
              "              leucoc       glasgow      comorbil      scoreapa    probabmort  \\\n",
              "count   51653.000000  51653.000000  51653.000000  51653.000000  51653.000000   \n",
              "mean    10995.523919     14.778638      0.757013      5.932550      5.335489   \n",
              "std      7326.584130      0.876690      1.687260      2.420081      4.380704   \n",
              "min         0.000000      0.000000     -1.000000      0.000000      0.000000   \n",
              "25%      7600.000000     15.000000      0.000000      4.000000      2.000000   \n",
              "50%     10300.000000     15.000000      1.000000      6.000000      4.000000   \n",
              "75%     13600.000000     15.000000      1.000000      8.000000      7.000000   \n",
              "max    345000.000000     25.000000      9.000000      9.000000     98.000000   \n",
              "\n",
              "            restrat  \n",
              "count  51653.000000  \n",
              "mean       1.542563  \n",
              "std        1.342464  \n",
              "min        0.000000  \n",
              "25%        1.000000  \n",
              "50%        1.000000  \n",
              "75%        1.000000  \n",
              "max       12.000000  \n",
              "\n",
              "[8 rows x 26 columns]"
            ],
            "text/html": [
              "\n",
              "  <div id=\"df-73d5031d-148d-4d4d-8bf8-e816c1a1008c\" class=\"colab-df-container\">\n",
              "    <div>\n",
              "<style scoped>\n",
              "    .dataframe tbody tr th:only-of-type {\n",
              "        vertical-align: middle;\n",
              "    }\n",
              "\n",
              "    .dataframe tbody tr th {\n",
              "        vertical-align: top;\n",
              "    }\n",
              "\n",
              "    .dataframe thead th {\n",
              "        text-align: right;\n",
              "    }\n",
              "</style>\n",
              "<table border=\"1\" class=\"dataframe\">\n",
              "  <thead>\n",
              "    <tr style=\"text-align: right;\">\n",
              "      <th></th>\n",
              "      <th>reingreso</th>\n",
              "      <th>tipo</th>\n",
              "      <th>dias</th>\n",
              "      <th>edad</th>\n",
              "      <th>procedencia</th>\n",
              "      <th>patologia</th>\n",
              "      <th>catknaus</th>\n",
              "      <th>temperatura</th>\n",
              "      <th>tensart</th>\n",
              "      <th>freccard</th>\n",
              "      <th>...</th>\n",
              "      <th>na</th>\n",
              "      <th>k</th>\n",
              "      <th>creatin</th>\n",
              "      <th>hematroc</th>\n",
              "      <th>leucoc</th>\n",
              "      <th>glasgow</th>\n",
              "      <th>comorbil</th>\n",
              "      <th>scoreapa</th>\n",
              "      <th>probabmort</th>\n",
              "      <th>restrat</th>\n",
              "    </tr>\n",
              "  </thead>\n",
              "  <tbody>\n",
              "    <tr>\n",
              "      <th>count</th>\n",
              "      <td>51653.000000</td>\n",
              "      <td>51653.0</td>\n",
              "      <td>51653.000000</td>\n",
              "      <td>51653.000000</td>\n",
              "      <td>51652.000000</td>\n",
              "      <td>51116.000000</td>\n",
              "      <td>49798.000000</td>\n",
              "      <td>51653.000000</td>\n",
              "      <td>51653.000000</td>\n",
              "      <td>51653.000000</td>\n",
              "      <td>...</td>\n",
              "      <td>51653.000000</td>\n",
              "      <td>51653.000000</td>\n",
              "      <td>51653.000000</td>\n",
              "      <td>51653.000000</td>\n",
              "      <td>51653.000000</td>\n",
              "      <td>51653.000000</td>\n",
              "      <td>51653.000000</td>\n",
              "      <td>51653.000000</td>\n",
              "      <td>51653.000000</td>\n",
              "      <td>51653.000000</td>\n",
              "    </tr>\n",
              "    <tr>\n",
              "      <th>mean</th>\n",
              "      <td>0.027452</td>\n",
              "      <td>1.0</td>\n",
              "      <td>4.235243</td>\n",
              "      <td>50.677831</td>\n",
              "      <td>4.929393</td>\n",
              "      <td>1.923175</td>\n",
              "      <td>24.261617</td>\n",
              "      <td>36.642006</td>\n",
              "      <td>91.642997</td>\n",
              "      <td>86.577506</td>\n",
              "      <td>...</td>\n",
              "      <td>138.855390</td>\n",
              "      <td>3.952384</td>\n",
              "      <td>1.558046</td>\n",
              "      <td>38.068810</td>\n",
              "      <td>10995.523919</td>\n",
              "      <td>14.778638</td>\n",
              "      <td>0.757013</td>\n",
              "      <td>5.932550</td>\n",
              "      <td>5.335489</td>\n",
              "      <td>1.542563</td>\n",
              "    </tr>\n",
              "    <tr>\n",
              "      <th>std</th>\n",
              "      <td>0.163399</td>\n",
              "      <td>0.0</td>\n",
              "      <td>13.563870</td>\n",
              "      <td>17.006780</td>\n",
              "      <td>4.545791</td>\n",
              "      <td>1.067985</td>\n",
              "      <td>13.778081</td>\n",
              "      <td>28.936407</td>\n",
              "      <td>795.481016</td>\n",
              "      <td>28.563451</td>\n",
              "      <td>...</td>\n",
              "      <td>21.843717</td>\n",
              "      <td>3.451954</td>\n",
              "      <td>56.494275</td>\n",
              "      <td>140.106119</td>\n",
              "      <td>7326.584130</td>\n",
              "      <td>0.876690</td>\n",
              "      <td>1.687260</td>\n",
              "      <td>2.420081</td>\n",
              "      <td>4.380704</td>\n",
              "      <td>1.342464</td>\n",
              "    </tr>\n",
              "    <tr>\n",
              "      <th>min</th>\n",
              "      <td>0.000000</td>\n",
              "      <td>1.0</td>\n",
              "      <td>1.000000</td>\n",
              "      <td>18.000000</td>\n",
              "      <td>-1.000000</td>\n",
              "      <td>0.000000</td>\n",
              "      <td>0.000000</td>\n",
              "      <td>0.000000</td>\n",
              "      <td>0.000000</td>\n",
              "      <td>0.000000</td>\n",
              "      <td>...</td>\n",
              "      <td>0.000000</td>\n",
              "      <td>0.000000</td>\n",
              "      <td>0.000000</td>\n",
              "      <td>0.000000</td>\n",
              "      <td>0.000000</td>\n",
              "      <td>0.000000</td>\n",
              "      <td>-1.000000</td>\n",
              "      <td>0.000000</td>\n",
              "      <td>0.000000</td>\n",
              "      <td>0.000000</td>\n",
              "    </tr>\n",
              "    <tr>\n",
              "      <th>25%</th>\n",
              "      <td>0.000000</td>\n",
              "      <td>1.0</td>\n",
              "      <td>1.000000</td>\n",
              "      <td>37.000000</td>\n",
              "      <td>1.000000</td>\n",
              "      <td>1.000000</td>\n",
              "      <td>10.000000</td>\n",
              "      <td>36.000000</td>\n",
              "      <td>75.000000</td>\n",
              "      <td>75.000000</td>\n",
              "      <td>...</td>\n",
              "      <td>136.000000</td>\n",
              "      <td>3.600000</td>\n",
              "      <td>0.700000</td>\n",
              "      <td>33.000000</td>\n",
              "      <td>7600.000000</td>\n",
              "      <td>15.000000</td>\n",
              "      <td>0.000000</td>\n",
              "      <td>4.000000</td>\n",
              "      <td>2.000000</td>\n",
              "      <td>1.000000</td>\n",
              "    </tr>\n",
              "    <tr>\n",
              "      <th>50%</th>\n",
              "      <td>0.000000</td>\n",
              "      <td>1.0</td>\n",
              "      <td>2.000000</td>\n",
              "      <td>52.000000</td>\n",
              "      <td>2.000000</td>\n",
              "      <td>1.000000</td>\n",
              "      <td>25.000000</td>\n",
              "      <td>36.000000</td>\n",
              "      <td>85.000000</td>\n",
              "      <td>85.000000</td>\n",
              "      <td>...</td>\n",
              "      <td>139.000000</td>\n",
              "      <td>3.900000</td>\n",
              "      <td>0.880000</td>\n",
              "      <td>37.200001</td>\n",
              "      <td>10300.000000</td>\n",
              "      <td>15.000000</td>\n",
              "      <td>1.000000</td>\n",
              "      <td>6.000000</td>\n",
              "      <td>4.000000</td>\n",
              "      <td>1.000000</td>\n",
              "    </tr>\n",
              "    <tr>\n",
              "      <th>75%</th>\n",
              "      <td>0.000000</td>\n",
              "      <td>1.0</td>\n",
              "      <td>4.000000</td>\n",
              "      <td>63.000000</td>\n",
              "      <td>10.000000</td>\n",
              "      <td>3.000000</td>\n",
              "      <td>35.000000</td>\n",
              "      <td>36.599998</td>\n",
              "      <td>100.000000</td>\n",
              "      <td>99.000000</td>\n",
              "      <td>...</td>\n",
              "      <td>141.000000</td>\n",
              "      <td>4.200000</td>\n",
              "      <td>1.000000</td>\n",
              "      <td>41.000000</td>\n",
              "      <td>13600.000000</td>\n",
              "      <td>15.000000</td>\n",
              "      <td>1.000000</td>\n",
              "      <td>8.000000</td>\n",
              "      <td>7.000000</td>\n",
              "      <td>1.000000</td>\n",
              "    </tr>\n",
              "    <tr>\n",
              "      <th>max</th>\n",
              "      <td>1.000000</td>\n",
              "      <td>1.0</td>\n",
              "      <td>1205.000000</td>\n",
              "      <td>102.000000</td>\n",
              "      <td>21.000000</td>\n",
              "      <td>4.000000</td>\n",
              "      <td>51.000000</td>\n",
              "      <td>3680.000000</td>\n",
              "      <td>180100.000000</td>\n",
              "      <td>4150.000000</td>\n",
              "      <td>...</td>\n",
              "      <td>1444.000000</td>\n",
              "      <td>430.000000</td>\n",
              "      <td>9100.000000</td>\n",
              "      <td>26000.000000</td>\n",
              "      <td>345000.000000</td>\n",
              "      <td>25.000000</td>\n",
              "      <td>9.000000</td>\n",
              "      <td>9.000000</td>\n",
              "      <td>98.000000</td>\n",
              "      <td>12.000000</td>\n",
              "    </tr>\n",
              "  </tbody>\n",
              "</table>\n",
              "<p>8 rows × 26 columns</p>\n",
              "</div>\n",
              "    <div class=\"colab-df-buttons\">\n",
              "\n",
              "  <div class=\"colab-df-container\">\n",
              "    <button class=\"colab-df-convert\" onclick=\"convertToInteractive('df-73d5031d-148d-4d4d-8bf8-e816c1a1008c')\"\n",
              "            title=\"Convert this dataframe to an interactive table.\"\n",
              "            style=\"display:none;\">\n",
              "\n",
              "  <svg xmlns=\"http://www.w3.org/2000/svg\" height=\"24px\" viewBox=\"0 -960 960 960\">\n",
              "    <path d=\"M120-120v-720h720v720H120Zm60-500h600v-160H180v160Zm220 220h160v-160H400v160Zm0 220h160v-160H400v160ZM180-400h160v-160H180v160Zm440 0h160v-160H620v160ZM180-180h160v-160H180v160Zm440 0h160v-160H620v160Z\"/>\n",
              "  </svg>\n",
              "    </button>\n",
              "\n",
              "  <style>\n",
              "    .colab-df-container {\n",
              "      display:flex;\n",
              "      gap: 12px;\n",
              "    }\n",
              "\n",
              "    .colab-df-convert {\n",
              "      background-color: #E8F0FE;\n",
              "      border: none;\n",
              "      border-radius: 50%;\n",
              "      cursor: pointer;\n",
              "      display: none;\n",
              "      fill: #1967D2;\n",
              "      height: 32px;\n",
              "      padding: 0 0 0 0;\n",
              "      width: 32px;\n",
              "    }\n",
              "\n",
              "    .colab-df-convert:hover {\n",
              "      background-color: #E2EBFA;\n",
              "      box-shadow: 0px 1px 2px rgba(60, 64, 67, 0.3), 0px 1px 3px 1px rgba(60, 64, 67, 0.15);\n",
              "      fill: #174EA6;\n",
              "    }\n",
              "\n",
              "    .colab-df-buttons div {\n",
              "      margin-bottom: 4px;\n",
              "    }\n",
              "\n",
              "    [theme=dark] .colab-df-convert {\n",
              "      background-color: #3B4455;\n",
              "      fill: #D2E3FC;\n",
              "    }\n",
              "\n",
              "    [theme=dark] .colab-df-convert:hover {\n",
              "      background-color: #434B5C;\n",
              "      box-shadow: 0px 1px 3px 1px rgba(0, 0, 0, 0.15);\n",
              "      filter: drop-shadow(0px 1px 2px rgba(0, 0, 0, 0.3));\n",
              "      fill: #FFFFFF;\n",
              "    }\n",
              "  </style>\n",
              "\n",
              "    <script>\n",
              "      const buttonEl =\n",
              "        document.querySelector('#df-73d5031d-148d-4d4d-8bf8-e816c1a1008c button.colab-df-convert');\n",
              "      buttonEl.style.display =\n",
              "        google.colab.kernel.accessAllowed ? 'block' : 'none';\n",
              "\n",
              "      async function convertToInteractive(key) {\n",
              "        const element = document.querySelector('#df-73d5031d-148d-4d4d-8bf8-e816c1a1008c');\n",
              "        const dataTable =\n",
              "          await google.colab.kernel.invokeFunction('convertToInteractive',\n",
              "                                                    [key], {});\n",
              "        if (!dataTable) return;\n",
              "\n",
              "        const docLinkHtml = 'Like what you see? Visit the ' +\n",
              "          '<a target=\"_blank\" href=https://colab.research.google.com/notebooks/data_table.ipynb>data table notebook</a>'\n",
              "          + ' to learn more about interactive tables.';\n",
              "        element.innerHTML = '';\n",
              "        dataTable['output_type'] = 'display_data';\n",
              "        await google.colab.output.renderOutput(dataTable, element);\n",
              "        const docLink = document.createElement('div');\n",
              "        docLink.innerHTML = docLinkHtml;\n",
              "        element.appendChild(docLink);\n",
              "      }\n",
              "    </script>\n",
              "  </div>\n",
              "\n",
              "\n",
              "<div id=\"df-74ec75ef-5ac1-4549-bc2c-9476bdd59b85\">\n",
              "  <button class=\"colab-df-quickchart\" onclick=\"quickchart('df-74ec75ef-5ac1-4549-bc2c-9476bdd59b85')\"\n",
              "            title=\"Suggest charts\"\n",
              "            style=\"display:none;\">\n",
              "\n",
              "<svg xmlns=\"http://www.w3.org/2000/svg\" height=\"24px\"viewBox=\"0 0 24 24\"\n",
              "     width=\"24px\">\n",
              "    <g>\n",
              "        <path d=\"M19 3H5c-1.1 0-2 .9-2 2v14c0 1.1.9 2 2 2h14c1.1 0 2-.9 2-2V5c0-1.1-.9-2-2-2zM9 17H7v-7h2v7zm4 0h-2V7h2v10zm4 0h-2v-4h2v4z\"/>\n",
              "    </g>\n",
              "</svg>\n",
              "  </button>\n",
              "\n",
              "<style>\n",
              "  .colab-df-quickchart {\n",
              "      --bg-color: #E8F0FE;\n",
              "      --fill-color: #1967D2;\n",
              "      --hover-bg-color: #E2EBFA;\n",
              "      --hover-fill-color: #174EA6;\n",
              "      --disabled-fill-color: #AAA;\n",
              "      --disabled-bg-color: #DDD;\n",
              "  }\n",
              "\n",
              "  [theme=dark] .colab-df-quickchart {\n",
              "      --bg-color: #3B4455;\n",
              "      --fill-color: #D2E3FC;\n",
              "      --hover-bg-color: #434B5C;\n",
              "      --hover-fill-color: #FFFFFF;\n",
              "      --disabled-bg-color: #3B4455;\n",
              "      --disabled-fill-color: #666;\n",
              "  }\n",
              "\n",
              "  .colab-df-quickchart {\n",
              "    background-color: var(--bg-color);\n",
              "    border: none;\n",
              "    border-radius: 50%;\n",
              "    cursor: pointer;\n",
              "    display: none;\n",
              "    fill: var(--fill-color);\n",
              "    height: 32px;\n",
              "    padding: 0;\n",
              "    width: 32px;\n",
              "  }\n",
              "\n",
              "  .colab-df-quickchart:hover {\n",
              "    background-color: var(--hover-bg-color);\n",
              "    box-shadow: 0 1px 2px rgba(60, 64, 67, 0.3), 0 1px 3px 1px rgba(60, 64, 67, 0.15);\n",
              "    fill: var(--button-hover-fill-color);\n",
              "  }\n",
              "\n",
              "  .colab-df-quickchart-complete:disabled,\n",
              "  .colab-df-quickchart-complete:disabled:hover {\n",
              "    background-color: var(--disabled-bg-color);\n",
              "    fill: var(--disabled-fill-color);\n",
              "    box-shadow: none;\n",
              "  }\n",
              "\n",
              "  .colab-df-spinner {\n",
              "    border: 2px solid var(--fill-color);\n",
              "    border-color: transparent;\n",
              "    border-bottom-color: var(--fill-color);\n",
              "    animation:\n",
              "      spin 1s steps(1) infinite;\n",
              "  }\n",
              "\n",
              "  @keyframes spin {\n",
              "    0% {\n",
              "      border-color: transparent;\n",
              "      border-bottom-color: var(--fill-color);\n",
              "      border-left-color: var(--fill-color);\n",
              "    }\n",
              "    20% {\n",
              "      border-color: transparent;\n",
              "      border-left-color: var(--fill-color);\n",
              "      border-top-color: var(--fill-color);\n",
              "    }\n",
              "    30% {\n",
              "      border-color: transparent;\n",
              "      border-left-color: var(--fill-color);\n",
              "      border-top-color: var(--fill-color);\n",
              "      border-right-color: var(--fill-color);\n",
              "    }\n",
              "    40% {\n",
              "      border-color: transparent;\n",
              "      border-right-color: var(--fill-color);\n",
              "      border-top-color: var(--fill-color);\n",
              "    }\n",
              "    60% {\n",
              "      border-color: transparent;\n",
              "      border-right-color: var(--fill-color);\n",
              "    }\n",
              "    80% {\n",
              "      border-color: transparent;\n",
              "      border-right-color: var(--fill-color);\n",
              "      border-bottom-color: var(--fill-color);\n",
              "    }\n",
              "    90% {\n",
              "      border-color: transparent;\n",
              "      border-bottom-color: var(--fill-color);\n",
              "    }\n",
              "  }\n",
              "</style>\n",
              "\n",
              "  <script>\n",
              "    async function quickchart(key) {\n",
              "      const quickchartButtonEl =\n",
              "        document.querySelector('#' + key + ' button');\n",
              "      quickchartButtonEl.disabled = true;  // To prevent multiple clicks.\n",
              "      quickchartButtonEl.classList.add('colab-df-spinner');\n",
              "      try {\n",
              "        const charts = await google.colab.kernel.invokeFunction(\n",
              "            'suggestCharts', [key], {});\n",
              "      } catch (error) {\n",
              "        console.error('Error during call to suggestCharts:', error);\n",
              "      }\n",
              "      quickchartButtonEl.classList.remove('colab-df-spinner');\n",
              "      quickchartButtonEl.classList.add('colab-df-quickchart-complete');\n",
              "    }\n",
              "    (() => {\n",
              "      let quickchartButtonEl =\n",
              "        document.querySelector('#df-74ec75ef-5ac1-4549-bc2c-9476bdd59b85 button');\n",
              "      quickchartButtonEl.style.display =\n",
              "        google.colab.kernel.accessAllowed ? 'block' : 'none';\n",
              "    })();\n",
              "  </script>\n",
              "</div>\n",
              "    </div>\n",
              "  </div>\n"
            ]
          },
          "metadata": {},
          "execution_count": 5
        }
      ]
    },
    {
      "cell_type": "code",
      "source": [
        "df_intervalos = df.copy()"
      ],
      "metadata": {
        "id": "tpHgdcaO1AJU"
      },
      "execution_count": null,
      "outputs": []
    },
    {
      "cell_type": "code",
      "source": [
        "df_intervalos.loc[:, 'edad_intervalos'] = '> 80 años'\n",
        "df_intervalos.loc[(df_intervalos['edad'] >= 18) & (df_intervalos['edad'] <= 39), 'edad_intervalos'] = '18 - 39 años'\n",
        "df_intervalos.loc[(df_intervalos['edad'] >= 40) & (df_intervalos['edad'] <= 59), 'edad_intervalos'] = '40 - 59 años'\n",
        "df_intervalos.loc[(df_intervalos['edad'] >= 60) & (df_intervalos['edad'] <= 79), 'edad_intervalos'] = '60 - 79 años'\n",
        "\n"
      ],
      "metadata": {
        "id": "MwIyADJa1AMG"
      },
      "execution_count": null,
      "outputs": []
    },
    {
      "cell_type": "code",
      "source": [
        "df_intervalos.head()"
      ],
      "metadata": {
        "colab": {
          "base_uri": "https://localhost:8080/",
          "height": 359
        },
        "id": "3tuAu25HXEXb",
        "outputId": "ab5f34f5-a8c4-4526-f074-5b27e2eb84e8"
      },
      "execution_count": null,
      "outputs": [
        {
          "output_type": "execute_result",
          "data": {
            "text/plain": [
              "  tipodni                   dni      fecing    fechaing  reingreso         hc  \\\n",
              "0  D.N.I.  O2RiFrIrGJZsnrF00360  08/09/2020  08/09/2020          0  HC_F00360   \n",
              "1  D.N.I.  O2RiFrIrGJZsnrF02171  08/09/2020  08/09/2020          1  HC_F02171   \n",
              "2  D.N.I.  O2RiFrIrGJZsnrF00060  14/09/2020  14/09/2020          0  HC_F00060   \n",
              "3  D.N.I.  O2RiFrIrGJZsnrF00850  15/09/2020  15/09/2020          0  HC_F00850   \n",
              "4  D.N.I.  O2RiFrIrGJZsnrF02303  08/09/2020  08/09/2020          0  HC_F02303   \n",
              "\n",
              "   tipo       paciente      fecegr  dias  ...  fecingh fecegrh  restrat  \\\n",
              "0     1  Nombre_F00360  09/09/2020     1  ...      NaN     NaN        1   \n",
              "1     1  Nombre_F02171  10/09/2020     2  ...      NaN     NaN        1   \n",
              "2     1  Nombre_F00060  16/09/2020     2  ...      NaN     NaN        1   \n",
              "3     1  Nombre_F00850  16/09/2020     1  ...      NaN     NaN        1   \n",
              "4     1  Nombre_F02303  16/09/2020     8  ...      NaN     NaN        1   \n",
              "\n",
              "                                   capacidadcerebral  \\\n",
              "0                                                NaN   \n",
              "1                                                NaN   \n",
              "2  Sin modificaciones evidentes en relacion al in...   \n",
              "3  Sin modificaciones evidentes en relacion al in...   \n",
              "4  Sin modificaciones evidentes en relacion al in...   \n",
              "\n",
              "                                 discapacidadgeneral  autopsia  \\\n",
              "0                                                NaN       NaN   \n",
              "1                                                NaN       NaN   \n",
              "2  Sin modificaciones evidentes en relacion al in...       NaN   \n",
              "3  Sin modificaciones evidentes en relacion al in...       NaN   \n",
              "4  Sin modificaciones evidentes en relacion al in...       NaN   \n",
              "\n",
              "   resultadoegresoh  dependencia  ïtipodni  edad_intervalos  \n",
              "0               NaN          NaN       NaN     60 - 79 años  \n",
              "1               NaN          NaN       NaN        > 80 años  \n",
              "2               NaN          NaN       NaN     40 - 59 años  \n",
              "3               NaN          NaN       NaN     40 - 59 años  \n",
              "4               NaN          NaN       NaN     60 - 79 años  \n",
              "\n",
              "[5 rows x 56 columns]"
            ],
            "text/html": [
              "\n",
              "  <div id=\"df-d982c148-5180-4edd-b69e-4723b94eeceb\" class=\"colab-df-container\">\n",
              "    <div>\n",
              "<style scoped>\n",
              "    .dataframe tbody tr th:only-of-type {\n",
              "        vertical-align: middle;\n",
              "    }\n",
              "\n",
              "    .dataframe tbody tr th {\n",
              "        vertical-align: top;\n",
              "    }\n",
              "\n",
              "    .dataframe thead th {\n",
              "        text-align: right;\n",
              "    }\n",
              "</style>\n",
              "<table border=\"1\" class=\"dataframe\">\n",
              "  <thead>\n",
              "    <tr style=\"text-align: right;\">\n",
              "      <th></th>\n",
              "      <th>tipodni</th>\n",
              "      <th>dni</th>\n",
              "      <th>fecing</th>\n",
              "      <th>fechaing</th>\n",
              "      <th>reingreso</th>\n",
              "      <th>hc</th>\n",
              "      <th>tipo</th>\n",
              "      <th>paciente</th>\n",
              "      <th>fecegr</th>\n",
              "      <th>dias</th>\n",
              "      <th>...</th>\n",
              "      <th>fecingh</th>\n",
              "      <th>fecegrh</th>\n",
              "      <th>restrat</th>\n",
              "      <th>capacidadcerebral</th>\n",
              "      <th>discapacidadgeneral</th>\n",
              "      <th>autopsia</th>\n",
              "      <th>resultadoegresoh</th>\n",
              "      <th>dependencia</th>\n",
              "      <th>ïtipodni</th>\n",
              "      <th>edad_intervalos</th>\n",
              "    </tr>\n",
              "  </thead>\n",
              "  <tbody>\n",
              "    <tr>\n",
              "      <th>0</th>\n",
              "      <td>D.N.I.</td>\n",
              "      <td>O2RiFrIrGJZsnrF00360</td>\n",
              "      <td>08/09/2020</td>\n",
              "      <td>08/09/2020</td>\n",
              "      <td>0</td>\n",
              "      <td>HC_F00360</td>\n",
              "      <td>1</td>\n",
              "      <td>Nombre_F00360</td>\n",
              "      <td>09/09/2020</td>\n",
              "      <td>1</td>\n",
              "      <td>...</td>\n",
              "      <td>NaN</td>\n",
              "      <td>NaN</td>\n",
              "      <td>1</td>\n",
              "      <td>NaN</td>\n",
              "      <td>NaN</td>\n",
              "      <td>NaN</td>\n",
              "      <td>NaN</td>\n",
              "      <td>NaN</td>\n",
              "      <td>NaN</td>\n",
              "      <td>60 - 79 años</td>\n",
              "    </tr>\n",
              "    <tr>\n",
              "      <th>1</th>\n",
              "      <td>D.N.I.</td>\n",
              "      <td>O2RiFrIrGJZsnrF02171</td>\n",
              "      <td>08/09/2020</td>\n",
              "      <td>08/09/2020</td>\n",
              "      <td>1</td>\n",
              "      <td>HC_F02171</td>\n",
              "      <td>1</td>\n",
              "      <td>Nombre_F02171</td>\n",
              "      <td>10/09/2020</td>\n",
              "      <td>2</td>\n",
              "      <td>...</td>\n",
              "      <td>NaN</td>\n",
              "      <td>NaN</td>\n",
              "      <td>1</td>\n",
              "      <td>NaN</td>\n",
              "      <td>NaN</td>\n",
              "      <td>NaN</td>\n",
              "      <td>NaN</td>\n",
              "      <td>NaN</td>\n",
              "      <td>NaN</td>\n",
              "      <td>&gt; 80 años</td>\n",
              "    </tr>\n",
              "    <tr>\n",
              "      <th>2</th>\n",
              "      <td>D.N.I.</td>\n",
              "      <td>O2RiFrIrGJZsnrF00060</td>\n",
              "      <td>14/09/2020</td>\n",
              "      <td>14/09/2020</td>\n",
              "      <td>0</td>\n",
              "      <td>HC_F00060</td>\n",
              "      <td>1</td>\n",
              "      <td>Nombre_F00060</td>\n",
              "      <td>16/09/2020</td>\n",
              "      <td>2</td>\n",
              "      <td>...</td>\n",
              "      <td>NaN</td>\n",
              "      <td>NaN</td>\n",
              "      <td>1</td>\n",
              "      <td>Sin modificaciones evidentes en relacion al in...</td>\n",
              "      <td>Sin modificaciones evidentes en relacion al in...</td>\n",
              "      <td>NaN</td>\n",
              "      <td>NaN</td>\n",
              "      <td>NaN</td>\n",
              "      <td>NaN</td>\n",
              "      <td>40 - 59 años</td>\n",
              "    </tr>\n",
              "    <tr>\n",
              "      <th>3</th>\n",
              "      <td>D.N.I.</td>\n",
              "      <td>O2RiFrIrGJZsnrF00850</td>\n",
              "      <td>15/09/2020</td>\n",
              "      <td>15/09/2020</td>\n",
              "      <td>0</td>\n",
              "      <td>HC_F00850</td>\n",
              "      <td>1</td>\n",
              "      <td>Nombre_F00850</td>\n",
              "      <td>16/09/2020</td>\n",
              "      <td>1</td>\n",
              "      <td>...</td>\n",
              "      <td>NaN</td>\n",
              "      <td>NaN</td>\n",
              "      <td>1</td>\n",
              "      <td>Sin modificaciones evidentes en relacion al in...</td>\n",
              "      <td>Sin modificaciones evidentes en relacion al in...</td>\n",
              "      <td>NaN</td>\n",
              "      <td>NaN</td>\n",
              "      <td>NaN</td>\n",
              "      <td>NaN</td>\n",
              "      <td>40 - 59 años</td>\n",
              "    </tr>\n",
              "    <tr>\n",
              "      <th>4</th>\n",
              "      <td>D.N.I.</td>\n",
              "      <td>O2RiFrIrGJZsnrF02303</td>\n",
              "      <td>08/09/2020</td>\n",
              "      <td>08/09/2020</td>\n",
              "      <td>0</td>\n",
              "      <td>HC_F02303</td>\n",
              "      <td>1</td>\n",
              "      <td>Nombre_F02303</td>\n",
              "      <td>16/09/2020</td>\n",
              "      <td>8</td>\n",
              "      <td>...</td>\n",
              "      <td>NaN</td>\n",
              "      <td>NaN</td>\n",
              "      <td>1</td>\n",
              "      <td>Sin modificaciones evidentes en relacion al in...</td>\n",
              "      <td>Sin modificaciones evidentes en relacion al in...</td>\n",
              "      <td>NaN</td>\n",
              "      <td>NaN</td>\n",
              "      <td>NaN</td>\n",
              "      <td>NaN</td>\n",
              "      <td>60 - 79 años</td>\n",
              "    </tr>\n",
              "  </tbody>\n",
              "</table>\n",
              "<p>5 rows × 56 columns</p>\n",
              "</div>\n",
              "    <div class=\"colab-df-buttons\">\n",
              "\n",
              "  <div class=\"colab-df-container\">\n",
              "    <button class=\"colab-df-convert\" onclick=\"convertToInteractive('df-d982c148-5180-4edd-b69e-4723b94eeceb')\"\n",
              "            title=\"Convert this dataframe to an interactive table.\"\n",
              "            style=\"display:none;\">\n",
              "\n",
              "  <svg xmlns=\"http://www.w3.org/2000/svg\" height=\"24px\" viewBox=\"0 -960 960 960\">\n",
              "    <path d=\"M120-120v-720h720v720H120Zm60-500h600v-160H180v160Zm220 220h160v-160H400v160Zm0 220h160v-160H400v160ZM180-400h160v-160H180v160Zm440 0h160v-160H620v160ZM180-180h160v-160H180v160Zm440 0h160v-160H620v160Z\"/>\n",
              "  </svg>\n",
              "    </button>\n",
              "\n",
              "  <style>\n",
              "    .colab-df-container {\n",
              "      display:flex;\n",
              "      gap: 12px;\n",
              "    }\n",
              "\n",
              "    .colab-df-convert {\n",
              "      background-color: #E8F0FE;\n",
              "      border: none;\n",
              "      border-radius: 50%;\n",
              "      cursor: pointer;\n",
              "      display: none;\n",
              "      fill: #1967D2;\n",
              "      height: 32px;\n",
              "      padding: 0 0 0 0;\n",
              "      width: 32px;\n",
              "    }\n",
              "\n",
              "    .colab-df-convert:hover {\n",
              "      background-color: #E2EBFA;\n",
              "      box-shadow: 0px 1px 2px rgba(60, 64, 67, 0.3), 0px 1px 3px 1px rgba(60, 64, 67, 0.15);\n",
              "      fill: #174EA6;\n",
              "    }\n",
              "\n",
              "    .colab-df-buttons div {\n",
              "      margin-bottom: 4px;\n",
              "    }\n",
              "\n",
              "    [theme=dark] .colab-df-convert {\n",
              "      background-color: #3B4455;\n",
              "      fill: #D2E3FC;\n",
              "    }\n",
              "\n",
              "    [theme=dark] .colab-df-convert:hover {\n",
              "      background-color: #434B5C;\n",
              "      box-shadow: 0px 1px 3px 1px rgba(0, 0, 0, 0.15);\n",
              "      filter: drop-shadow(0px 1px 2px rgba(0, 0, 0, 0.3));\n",
              "      fill: #FFFFFF;\n",
              "    }\n",
              "  </style>\n",
              "\n",
              "    <script>\n",
              "      const buttonEl =\n",
              "        document.querySelector('#df-d982c148-5180-4edd-b69e-4723b94eeceb button.colab-df-convert');\n",
              "      buttonEl.style.display =\n",
              "        google.colab.kernel.accessAllowed ? 'block' : 'none';\n",
              "\n",
              "      async function convertToInteractive(key) {\n",
              "        const element = document.querySelector('#df-d982c148-5180-4edd-b69e-4723b94eeceb');\n",
              "        const dataTable =\n",
              "          await google.colab.kernel.invokeFunction('convertToInteractive',\n",
              "                                                    [key], {});\n",
              "        if (!dataTable) return;\n",
              "\n",
              "        const docLinkHtml = 'Like what you see? Visit the ' +\n",
              "          '<a target=\"_blank\" href=https://colab.research.google.com/notebooks/data_table.ipynb>data table notebook</a>'\n",
              "          + ' to learn more about interactive tables.';\n",
              "        element.innerHTML = '';\n",
              "        dataTable['output_type'] = 'display_data';\n",
              "        await google.colab.output.renderOutput(dataTable, element);\n",
              "        const docLink = document.createElement('div');\n",
              "        docLink.innerHTML = docLinkHtml;\n",
              "        element.appendChild(docLink);\n",
              "      }\n",
              "    </script>\n",
              "  </div>\n",
              "\n",
              "\n",
              "<div id=\"df-3bb845e3-fbf2-4fd6-886e-8796b546d661\">\n",
              "  <button class=\"colab-df-quickchart\" onclick=\"quickchart('df-3bb845e3-fbf2-4fd6-886e-8796b546d661')\"\n",
              "            title=\"Suggest charts\"\n",
              "            style=\"display:none;\">\n",
              "\n",
              "<svg xmlns=\"http://www.w3.org/2000/svg\" height=\"24px\"viewBox=\"0 0 24 24\"\n",
              "     width=\"24px\">\n",
              "    <g>\n",
              "        <path d=\"M19 3H5c-1.1 0-2 .9-2 2v14c0 1.1.9 2 2 2h14c1.1 0 2-.9 2-2V5c0-1.1-.9-2-2-2zM9 17H7v-7h2v7zm4 0h-2V7h2v10zm4 0h-2v-4h2v4z\"/>\n",
              "    </g>\n",
              "</svg>\n",
              "  </button>\n",
              "\n",
              "<style>\n",
              "  .colab-df-quickchart {\n",
              "      --bg-color: #E8F0FE;\n",
              "      --fill-color: #1967D2;\n",
              "      --hover-bg-color: #E2EBFA;\n",
              "      --hover-fill-color: #174EA6;\n",
              "      --disabled-fill-color: #AAA;\n",
              "      --disabled-bg-color: #DDD;\n",
              "  }\n",
              "\n",
              "  [theme=dark] .colab-df-quickchart {\n",
              "      --bg-color: #3B4455;\n",
              "      --fill-color: #D2E3FC;\n",
              "      --hover-bg-color: #434B5C;\n",
              "      --hover-fill-color: #FFFFFF;\n",
              "      --disabled-bg-color: #3B4455;\n",
              "      --disabled-fill-color: #666;\n",
              "  }\n",
              "\n",
              "  .colab-df-quickchart {\n",
              "    background-color: var(--bg-color);\n",
              "    border: none;\n",
              "    border-radius: 50%;\n",
              "    cursor: pointer;\n",
              "    display: none;\n",
              "    fill: var(--fill-color);\n",
              "    height: 32px;\n",
              "    padding: 0;\n",
              "    width: 32px;\n",
              "  }\n",
              "\n",
              "  .colab-df-quickchart:hover {\n",
              "    background-color: var(--hover-bg-color);\n",
              "    box-shadow: 0 1px 2px rgba(60, 64, 67, 0.3), 0 1px 3px 1px rgba(60, 64, 67, 0.15);\n",
              "    fill: var(--button-hover-fill-color);\n",
              "  }\n",
              "\n",
              "  .colab-df-quickchart-complete:disabled,\n",
              "  .colab-df-quickchart-complete:disabled:hover {\n",
              "    background-color: var(--disabled-bg-color);\n",
              "    fill: var(--disabled-fill-color);\n",
              "    box-shadow: none;\n",
              "  }\n",
              "\n",
              "  .colab-df-spinner {\n",
              "    border: 2px solid var(--fill-color);\n",
              "    border-color: transparent;\n",
              "    border-bottom-color: var(--fill-color);\n",
              "    animation:\n",
              "      spin 1s steps(1) infinite;\n",
              "  }\n",
              "\n",
              "  @keyframes spin {\n",
              "    0% {\n",
              "      border-color: transparent;\n",
              "      border-bottom-color: var(--fill-color);\n",
              "      border-left-color: var(--fill-color);\n",
              "    }\n",
              "    20% {\n",
              "      border-color: transparent;\n",
              "      border-left-color: var(--fill-color);\n",
              "      border-top-color: var(--fill-color);\n",
              "    }\n",
              "    30% {\n",
              "      border-color: transparent;\n",
              "      border-left-color: var(--fill-color);\n",
              "      border-top-color: var(--fill-color);\n",
              "      border-right-color: var(--fill-color);\n",
              "    }\n",
              "    40% {\n",
              "      border-color: transparent;\n",
              "      border-right-color: var(--fill-color);\n",
              "      border-top-color: var(--fill-color);\n",
              "    }\n",
              "    60% {\n",
              "      border-color: transparent;\n",
              "      border-right-color: var(--fill-color);\n",
              "    }\n",
              "    80% {\n",
              "      border-color: transparent;\n",
              "      border-right-color: var(--fill-color);\n",
              "      border-bottom-color: var(--fill-color);\n",
              "    }\n",
              "    90% {\n",
              "      border-color: transparent;\n",
              "      border-bottom-color: var(--fill-color);\n",
              "    }\n",
              "  }\n",
              "</style>\n",
              "\n",
              "  <script>\n",
              "    async function quickchart(key) {\n",
              "      const quickchartButtonEl =\n",
              "        document.querySelector('#' + key + ' button');\n",
              "      quickchartButtonEl.disabled = true;  // To prevent multiple clicks.\n",
              "      quickchartButtonEl.classList.add('colab-df-spinner');\n",
              "      try {\n",
              "        const charts = await google.colab.kernel.invokeFunction(\n",
              "            'suggestCharts', [key], {});\n",
              "      } catch (error) {\n",
              "        console.error('Error during call to suggestCharts:', error);\n",
              "      }\n",
              "      quickchartButtonEl.classList.remove('colab-df-spinner');\n",
              "      quickchartButtonEl.classList.add('colab-df-quickchart-complete');\n",
              "    }\n",
              "    (() => {\n",
              "      let quickchartButtonEl =\n",
              "        document.querySelector('#df-3bb845e3-fbf2-4fd6-886e-8796b546d661 button');\n",
              "      quickchartButtonEl.style.display =\n",
              "        google.colab.kernel.accessAllowed ? 'block' : 'none';\n",
              "    })();\n",
              "  </script>\n",
              "</div>\n",
              "    </div>\n",
              "  </div>\n"
            ]
          },
          "metadata": {},
          "execution_count": 8
        }
      ]
    },
    {
      "cell_type": "markdown",
      "source": [],
      "metadata": {
        "id": "KS1JhYDcWrml"
      }
    },
    {
      "cell_type": "code",
      "source": [
        "\n",
        "df_filtrado = df_intervalos[df_intervalos['restrat'] == 5]\n",
        "df_filtrado.shape\n"
      ],
      "metadata": {
        "colab": {
          "base_uri": "https://localhost:8080/"
        },
        "id": "1DweVyOeESyt",
        "outputId": "70ebdbd1-c25c-4ced-cf12-e067a546fa51"
      },
      "execution_count": null,
      "outputs": [
        {
          "output_type": "execute_result",
          "data": {
            "text/plain": [
              "(1672, 56)"
            ]
          },
          "metadata": {},
          "execution_count": 20
        }
      ]
    },
    {
      "cell_type": "code",
      "source": [
        "import os\n",
        "print(os.getcwd())"
      ],
      "metadata": {
        "colab": {
          "base_uri": "https://localhost:8080/"
        },
        "id": "qsFalf2fF64i",
        "outputId": "036d5161-27b7-4f2b-d5c4-f719e19092ef"
      },
      "execution_count": null,
      "outputs": [
        {
          "output_type": "stream",
          "name": "stdout",
          "text": [
            "/content\n"
          ]
        }
      ]
    },
    {
      "cell_type": "code",
      "source": [
        "archivo = 'df_intervalos_filtrado.csv'\n",
        "\n",
        "ruta = '/content/df_intervalos_filtrado.csv'\n",
        "\n",
        "df_filtrado.to_csv(ruta, index=False)"
      ],
      "metadata": {
        "id": "3cBNqn5LZa2a"
      },
      "execution_count": null,
      "outputs": []
    },
    {
      "cell_type": "code",
      "source": [
        "from google.colab import files\n",
        "files.download('df_intervalos_filtrado.csv')\n"
      ],
      "metadata": {
        "colab": {
          "base_uri": "https://localhost:8080/",
          "height": 17
        },
        "id": "0Bgx3O0cbXYl",
        "outputId": "2e10ca1e-cd25-45cf-e33e-783f664c2f05"
      },
      "execution_count": null,
      "outputs": [
        {
          "output_type": "display_data",
          "data": {
            "text/plain": [
              "<IPython.core.display.Javascript object>"
            ],
            "application/javascript": [
              "\n",
              "    async function download(id, filename, size) {\n",
              "      if (!google.colab.kernel.accessAllowed) {\n",
              "        return;\n",
              "      }\n",
              "      const div = document.createElement('div');\n",
              "      const label = document.createElement('label');\n",
              "      label.textContent = `Downloading \"${filename}\": `;\n",
              "      div.appendChild(label);\n",
              "      const progress = document.createElement('progress');\n",
              "      progress.max = size;\n",
              "      div.appendChild(progress);\n",
              "      document.body.appendChild(div);\n",
              "\n",
              "      const buffers = [];\n",
              "      let downloaded = 0;\n",
              "\n",
              "      const channel = await google.colab.kernel.comms.open(id);\n",
              "      // Send a message to notify the kernel that we're ready.\n",
              "      channel.send({})\n",
              "\n",
              "      for await (const message of channel.messages) {\n",
              "        // Send a message to notify the kernel that we're ready.\n",
              "        channel.send({})\n",
              "        if (message.buffers) {\n",
              "          for (const buffer of message.buffers) {\n",
              "            buffers.push(buffer);\n",
              "            downloaded += buffer.byteLength;\n",
              "            progress.value = downloaded;\n",
              "          }\n",
              "        }\n",
              "      }\n",
              "      const blob = new Blob(buffers, {type: 'application/binary'});\n",
              "      const a = document.createElement('a');\n",
              "      a.href = window.URL.createObjectURL(blob);\n",
              "      a.download = filename;\n",
              "      div.appendChild(a);\n",
              "      a.click();\n",
              "      div.remove();\n",
              "    }\n",
              "  "
            ]
          },
          "metadata": {}
        },
        {
          "output_type": "display_data",
          "data": {
            "text/plain": [
              "<IPython.core.display.Javascript object>"
            ],
            "application/javascript": [
              "download(\"download_857b04d4-1a80-44c9-9724-9faf84152d72\", \"df_intervalos_filtrado.csv\", 471349)"
            ]
          },
          "metadata": {}
        }
      ]
    },
    {
      "cell_type": "code",
      "source": [
        "df_vivos = df_intervalos[df_intervalos['restrat'] != 5]\n",
        "\n",
        "df_vivos.shape"
      ],
      "metadata": {
        "colab": {
          "base_uri": "https://localhost:8080/"
        },
        "id": "JWoghTYuX90T",
        "outputId": "ae0a819c-22be-4fe8-8925-a6f4b568c5b4"
      },
      "execution_count": null,
      "outputs": [
        {
          "output_type": "execute_result",
          "data": {
            "text/plain": [
              "(49981, 56)"
            ]
          },
          "metadata": {},
          "execution_count": 45
        }
      ]
    },
    {
      "cell_type": "code",
      "source": [
        "import os\n",
        "print(os.getcwd())"
      ],
      "metadata": {
        "colab": {
          "base_uri": "https://localhost:8080/"
        },
        "id": "W0vPFSbJtRdB",
        "outputId": "b4a7ad2f-e3fe-4128-f2d6-83f36657da49"
      },
      "execution_count": null,
      "outputs": [
        {
          "output_type": "stream",
          "name": "stdout",
          "text": [
            "/content\n"
          ]
        }
      ]
    },
    {
      "cell_type": "code",
      "source": [
        "archivo_vivos = 'df_intervalos_filtrado_vivos.csv'\n",
        "\n",
        "ruta_2 = '/content/df_intervalos_filtrado_vivos.csv'\n",
        "\n",
        "df_vivos.to_csv(ruta_2, index=False)"
      ],
      "metadata": {
        "id": "eSRvYCsAX952"
      },
      "execution_count": null,
      "outputs": []
    },
    {
      "cell_type": "code",
      "source": [
        "from google.colab import files\n",
        "files.download('df_intervalos_filtrado_vivos.csv')"
      ],
      "metadata": {
        "colab": {
          "base_uri": "https://localhost:8080/",
          "height": 17
        },
        "id": "sHyKM7GxX98Z",
        "outputId": "ab57b36a-7452-4535-a263-f9d115c45f14"
      },
      "execution_count": null,
      "outputs": [
        {
          "output_type": "display_data",
          "data": {
            "text/plain": [
              "<IPython.core.display.Javascript object>"
            ],
            "application/javascript": [
              "\n",
              "    async function download(id, filename, size) {\n",
              "      if (!google.colab.kernel.accessAllowed) {\n",
              "        return;\n",
              "      }\n",
              "      const div = document.createElement('div');\n",
              "      const label = document.createElement('label');\n",
              "      label.textContent = `Downloading \"${filename}\": `;\n",
              "      div.appendChild(label);\n",
              "      const progress = document.createElement('progress');\n",
              "      progress.max = size;\n",
              "      div.appendChild(progress);\n",
              "      document.body.appendChild(div);\n",
              "\n",
              "      const buffers = [];\n",
              "      let downloaded = 0;\n",
              "\n",
              "      const channel = await google.colab.kernel.comms.open(id);\n",
              "      // Send a message to notify the kernel that we're ready.\n",
              "      channel.send({})\n",
              "\n",
              "      for await (const message of channel.messages) {\n",
              "        // Send a message to notify the kernel that we're ready.\n",
              "        channel.send({})\n",
              "        if (message.buffers) {\n",
              "          for (const buffer of message.buffers) {\n",
              "            buffers.push(buffer);\n",
              "            downloaded += buffer.byteLength;\n",
              "            progress.value = downloaded;\n",
              "          }\n",
              "        }\n",
              "      }\n",
              "      const blob = new Blob(buffers, {type: 'application/binary'});\n",
              "      const a = document.createElement('a');\n",
              "      a.href = window.URL.createObjectURL(blob);\n",
              "      a.download = filename;\n",
              "      div.appendChild(a);\n",
              "      a.click();\n",
              "      div.remove();\n",
              "    }\n",
              "  "
            ]
          },
          "metadata": {}
        },
        {
          "output_type": "display_data",
          "data": {
            "text/plain": [
              "<IPython.core.display.Javascript object>"
            ],
            "application/javascript": [
              "download(\"download_2aaa2b52-2e67-4091-8789-e1037a6b6c26\", \"df_intervalos_filtrado_vivos.csv\", 16219708)"
            ]
          },
          "metadata": {}
        }
      ]
    },
    {
      "cell_type": "code",
      "source": [
        "https://lookerstudio.google.com/s/oZs999yQPQo"
      ],
      "metadata": {
        "id": "mPg6FEDQX9_t"
      },
      "execution_count": null,
      "outputs": []
    },
    {
      "cell_type": "code",
      "source": [],
      "metadata": {
        "id": "yrGYOYwVmSKf"
      },
      "execution_count": null,
      "outputs": []
    },
    {
      "cell_type": "code",
      "source": [],
      "metadata": {
        "id": "_8XbGI-MmSM7"
      },
      "execution_count": null,
      "outputs": []
    },
    {
      "cell_type": "code",
      "source": [],
      "metadata": {
        "id": "LqzYTo2qmSPS"
      },
      "execution_count": null,
      "outputs": []
    },
    {
      "cell_type": "code",
      "source": [],
      "metadata": {
        "id": "2EvT47x1mSR7"
      },
      "execution_count": null,
      "outputs": []
    },
    {
      "cell_type": "code",
      "source": [],
      "metadata": {
        "id": "GHZwugAtmSUe"
      },
      "execution_count": null,
      "outputs": []
    },
    {
      "cell_type": "code",
      "source": [],
      "metadata": {
        "id": "t4m5e9cumSW8"
      },
      "execution_count": null,
      "outputs": []
    },
    {
      "cell_type": "code",
      "source": [],
      "metadata": {
        "id": "uAsZvRgrmSZw"
      },
      "execution_count": null,
      "outputs": []
    },
    {
      "cell_type": "markdown",
      "source": [
        "https://www.ncbi.nlm.nih.gov/pmc/articles/PMC10060092/pdf/ms9-85-416.pdf"
      ],
      "metadata": {
        "id": "BMKSAQCJeJ3G"
      }
    },
    {
      "cell_type": "code",
      "source": [],
      "metadata": {
        "id": "m7YhmwNNX-CU"
      },
      "execution_count": null,
      "outputs": []
    },
    {
      "cell_type": "code",
      "source": [],
      "metadata": {
        "id": "vmvp8gGQX-FL"
      },
      "execution_count": null,
      "outputs": []
    },
    {
      "cell_type": "code",
      "source": [],
      "metadata": {
        "id": "rhr7nMG2X-IG"
      },
      "execution_count": null,
      "outputs": []
    },
    {
      "cell_type": "code",
      "source": [],
      "metadata": {
        "id": "KxkoQL9yX-Kv"
      },
      "execution_count": null,
      "outputs": []
    },
    {
      "cell_type": "code",
      "source": [],
      "metadata": {
        "id": "JMH2WCLJX-Nk"
      },
      "execution_count": null,
      "outputs": []
    },
    {
      "cell_type": "code",
      "source": [],
      "metadata": {
        "id": "TSuTd4NwX-QT"
      },
      "execution_count": null,
      "outputs": []
    },
    {
      "cell_type": "code",
      "source": [],
      "metadata": {
        "id": "MSbjlf2MX-Tt"
      },
      "execution_count": null,
      "outputs": []
    },
    {
      "cell_type": "code",
      "source": [],
      "metadata": {
        "id": "C82lNR0XPBCx"
      },
      "execution_count": null,
      "outputs": []
    },
    {
      "cell_type": "code",
      "source": [],
      "metadata": {
        "id": "ZNBacVKPPBPH"
      },
      "execution_count": null,
      "outputs": []
    },
    {
      "cell_type": "code",
      "source": [
        "pip install ydata-profiling"
      ],
      "metadata": {
        "id": "b02mX7yiPBU8"
      },
      "execution_count": null,
      "outputs": []
    },
    {
      "cell_type": "code",
      "source": [
        "import numpy as np\n",
        "import pandas as pd\n",
        "from ydata_profiling import ProfileReport\n",
        "\n",
        "df = pd.read_csv()"
      ],
      "metadata": {
        "id": "if98aAVaPBiy"
      },
      "execution_count": null,
      "outputs": []
    },
    {
      "cell_type": "code",
      "source": [
        "from google.colab import drive\n",
        "drive.mount('/content/drive')"
      ],
      "metadata": {
        "id": "Bvc10eidPhWh"
      },
      "execution_count": null,
      "outputs": []
    },
    {
      "cell_type": "code",
      "source": [
        "profile = ProfileReport(df, title=\"Profiling Report\")"
      ],
      "metadata": {
        "id": "CYKyy82KPJ7K"
      },
      "execution_count": null,
      "outputs": []
    },
    {
      "cell_type": "markdown",
      "source": [],
      "metadata": {
        "id": "qV0JzgAWWorB"
      }
    },
    {
      "cell_type": "markdown",
      "source": [
        "Acá puede escribir otro de nosotros\n"
      ],
      "metadata": {
        "id": "-28DXRlFSeyg"
      }
    },
    {
      "cell_type": "markdown",
      "source": [
        "Doble click para empezar a escribir\n"
      ],
      "metadata": {
        "id": "a3Jj7GmNSkSY"
      }
    },
    {
      "cell_type": "markdown",
      "source": [],
      "metadata": {
        "id": "YLCIZvozSaN3"
      }
    }
  ]
}